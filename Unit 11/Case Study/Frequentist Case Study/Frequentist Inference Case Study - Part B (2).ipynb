{
 "cells": [
  {
   "cell_type": "markdown",
   "metadata": {},
   "source": [
    "# Frequentist Inference Case Study - Part B"
   ]
  },
  {
   "cell_type": "markdown",
   "metadata": {},
   "source": [
    "## Learning objectives"
   ]
  },
  {
   "cell_type": "markdown",
   "metadata": {},
   "source": [
    "Welcome to Part B of the Frequentist inference case study! The purpose of this case study is to help you apply the concepts associated with Frequentist inference in Python. In particular, you'll practice writing Python code to apply the following statistical concepts: \n",
    "* the _z_-statistic\n",
    "* the _t_-statistic\n",
    "* the difference and relationship between the two\n",
    "* the Central Limit Theorem, including its assumptions and consequences\n",
    "* how to estimate the population mean and standard deviation from a sample\n",
    "* the concept of a sampling distribution of a test statistic, particularly for the mean\n",
    "* how to combine these concepts to calculate a confidence interval"
   ]
  },
  {
   "cell_type": "markdown",
   "metadata": {},
   "source": [
    "In the previous notebook, we used only data from a known normal distribution. **You'll now tackle real data, rather than simulated data, and answer some relevant real-world business problems using the data.**"
   ]
  },
  {
   "cell_type": "markdown",
   "metadata": {},
   "source": [
    "## Hospital medical charges"
   ]
  },
  {
   "cell_type": "markdown",
   "metadata": {},
   "source": [
    "Imagine that a hospital has hired you as their data scientist. An administrator is working on the hospital's business operations plan and needs you to help them answer some business questions. \n",
    "\n",
    "In this assignment notebook, you're going to use frequentist statistical inference on a data sample to answer the questions:\n",
    "* has the hospital's revenue stream fallen below a key threshold?\n",
    "* are patients with insurance really charged different amounts than those without?\n",
    "\n",
    "Answering that last question with a frequentist approach makes some assumptions, and requires some knowledge, about the two groups."
   ]
  },
  {
   "cell_type": "markdown",
   "metadata": {},
   "source": [
    "We are going to use some data on medical charges obtained from [Kaggle](https://www.kaggle.com/easonlai/sample-insurance-claim-prediction-dataset). \n",
    "\n",
    "For the purposes of this exercise, assume the observations are the result of random sampling from our single hospital. Recall that in the previous assignment, we introduced the Central Limit Theorem (CLT), and its consequence that the distributions of sample statistics approach a normal distribution as $n$ increases. The amazing thing about this is that it applies to the sampling distributions of statistics that have been calculated from even highly non-normal distributions of data! Recall, also, that hypothesis testing is very much based on making inferences about such sample statistics. You're going to rely heavily on the CLT to apply frequentist (parametric) tests to answer the questions in this notebook."
   ]
  },
  {
   "cell_type": "code",
   "execution_count": 345,
   "outputs": [
    {
     "name": "stdout",
     "output_type": "stream",
     "text": [
      "Collecting researchpy\r\n",
      "  Using cached researchpy-0.3.2-py3-none-any.whl (15 kB)\r\n",
      "Collecting numpy\r\n",
      "  Downloading numpy-1.22.2-cp39-cp39-macosx_10_14_x86_64.whl (17.6 MB)\r\n",
      "\u001B[K     |████████████████████████████████| 17.6 MB 5.8 MB/s eta 0:00:01\r\n",
      "\u001B[?25hCollecting patsy\r\n",
      "  Downloading patsy-0.5.2-py2.py3-none-any.whl (233 kB)\r\n",
      "\u001B[K     |████████████████████████████████| 233 kB 31.5 MB/s eta 0:00:01\r\n",
      "\u001B[?25hCollecting statsmodels\r\n",
      "  Downloading statsmodels-0.13.1-cp39-cp39-macosx_10_15_x86_64.whl (9.6 MB)\r\n",
      "\u001B[K     |████████████████████████████████| 9.6 MB 39.5 MB/s eta 0:00:01\r\n",
      "\u001B[?25hCollecting pandas\r\n",
      "  Downloading pandas-1.4.0-cp39-cp39-macosx_10_9_x86_64.whl (11.5 MB)\r\n",
      "\u001B[K     |████████████████████████████████| 11.5 MB 20.2 MB/s eta 0:00:01\r\n",
      "\u001B[?25hCollecting scipy\r\n",
      "  Downloading scipy-1.8.0-cp39-cp39-macosx_12_0_universal2.macosx_10_9_x86_64.whl (55.6 MB)\r\n",
      "\u001B[K     |████████████████████████████████| 55.6 MB 38.9 MB/s eta 0:00:01\r\n",
      "\u001B[?25hCollecting pytz>=2020.1\r\n",
      "  Using cached pytz-2021.3-py2.py3-none-any.whl (503 kB)\r\n",
      "Requirement already satisfied: python-dateutil>=2.8.1 in /Users/harshchauhan/Harsh/Learning/git/Learn-Python/pandas-playbook-manipulating-data/05/venv/lib/python3.9/site-packages (from pandas->researchpy) (2.8.2)\r\n",
      "Requirement already satisfied: six>=1.5 in /Users/harshchauhan/Harsh/Learning/git/Learn-Python/pandas-playbook-manipulating-data/05/venv/lib/python3.9/site-packages (from python-dateutil>=2.8.1->pandas->researchpy) (1.16.0)\r\n",
      "Installing collected packages: pytz, numpy, scipy, patsy, pandas, statsmodels, researchpy\r\n",
      "Successfully installed numpy-1.22.2 pandas-1.4.0 patsy-0.5.2 pytz-2021.3 researchpy-0.3.2 scipy-1.8.0 statsmodels-0.13.1\r\n",
      "\u001B[33mWARNING: You are using pip version 21.1.2; however, version 22.0.3 is available.\r\n",
      "You should consider upgrading via the '/Users/harshchauhan/Harsh/Learning/git/Learn-Python/pandas-playbook-manipulating-data/05/venv/bin/python -m pip install --upgrade pip' command.\u001B[0m\r\n"
     ]
    }
   ],
   "source": [
    "!pip install researchpy"
   ],
   "metadata": {
    "collapsed": false,
    "pycharm": {
     "name": "#%%\n"
    }
   }
  },
  {
   "cell_type": "code",
   "execution_count": 235,
   "metadata": {},
   "outputs": [],
   "source": [
    "import pandas as pd\n",
    "import numpy as np\n",
    "import matplotlib.pyplot as plt\n",
    "import scipy.stats as stats\n",
    "from scipy.stats import t\n",
    "from numpy.random import seed\n",
    "medical = pd.read_csv('data/insurance2.csv')"
   ]
  },
  {
   "cell_type": "code",
   "execution_count": 236,
   "metadata": {},
   "outputs": [
    {
     "data": {
      "text/plain": "(1338, 8)"
     },
     "execution_count": 236,
     "metadata": {},
     "output_type": "execute_result"
    }
   ],
   "source": [
    "medical.shape"
   ]
  },
  {
   "cell_type": "code",
   "execution_count": 237,
   "metadata": {},
   "outputs": [
    {
     "data": {
      "text/plain": "   age  sex     bmi  children  smoker  region      charges  insuranceclaim\n0   19    0  27.900         0       1       3  16884.92400               1\n1   18    1  33.770         1       0       2   1725.55230               1\n2   28    1  33.000         3       0       2   4449.46200               0\n3   33    1  22.705         0       0       1  21984.47061               0\n4   32    1  28.880         0       0       1   3866.85520               1",
      "text/html": "<div>\n<style scoped>\n    .dataframe tbody tr th:only-of-type {\n        vertical-align: middle;\n    }\n\n    .dataframe tbody tr th {\n        vertical-align: top;\n    }\n\n    .dataframe thead th {\n        text-align: right;\n    }\n</style>\n<table border=\"1\" class=\"dataframe\">\n  <thead>\n    <tr style=\"text-align: right;\">\n      <th></th>\n      <th>age</th>\n      <th>sex</th>\n      <th>bmi</th>\n      <th>children</th>\n      <th>smoker</th>\n      <th>region</th>\n      <th>charges</th>\n      <th>insuranceclaim</th>\n    </tr>\n  </thead>\n  <tbody>\n    <tr>\n      <th>0</th>\n      <td>19</td>\n      <td>0</td>\n      <td>27.900</td>\n      <td>0</td>\n      <td>1</td>\n      <td>3</td>\n      <td>16884.92400</td>\n      <td>1</td>\n    </tr>\n    <tr>\n      <th>1</th>\n      <td>18</td>\n      <td>1</td>\n      <td>33.770</td>\n      <td>1</td>\n      <td>0</td>\n      <td>2</td>\n      <td>1725.55230</td>\n      <td>1</td>\n    </tr>\n    <tr>\n      <th>2</th>\n      <td>28</td>\n      <td>1</td>\n      <td>33.000</td>\n      <td>3</td>\n      <td>0</td>\n      <td>2</td>\n      <td>4449.46200</td>\n      <td>0</td>\n    </tr>\n    <tr>\n      <th>3</th>\n      <td>33</td>\n      <td>1</td>\n      <td>22.705</td>\n      <td>0</td>\n      <td>0</td>\n      <td>1</td>\n      <td>21984.47061</td>\n      <td>0</td>\n    </tr>\n    <tr>\n      <th>4</th>\n      <td>32</td>\n      <td>1</td>\n      <td>28.880</td>\n      <td>0</td>\n      <td>0</td>\n      <td>1</td>\n      <td>3866.85520</td>\n      <td>1</td>\n    </tr>\n  </tbody>\n</table>\n</div>"
     },
     "execution_count": 237,
     "metadata": {},
     "output_type": "execute_result"
    }
   ],
   "source": [
    "medical.head()"
   ]
  },
  {
   "cell_type": "markdown",
   "metadata": {},
   "source": [
    "__Q1:__ Plot the histogram of charges and calculate the mean and standard deviation. Comment on the appropriateness of these statistics for the data."
   ]
  },
  {
   "cell_type": "markdown",
   "metadata": {},
   "source": [
    "__A:__ The histogram is skewed towards right and does not resemble normal distribution."
   ]
  },
  {
   "cell_type": "code",
   "execution_count": 238,
   "outputs": [
    {
     "name": "stdout",
     "output_type": "stream",
     "text": [
      "13270.422265141257 12110.011236693994\n"
     ]
    },
    {
     "data": {
      "text/plain": "<Figure size 1080x576 with 2 Axes>",
      "image/png": "[encoded data removed]"
     },
     "metadata": {
      "needs_background": "light"
     },
     "output_type": "display_data"
    }
   ],
   "source": [
    "sample_mean = medical['charges'].mean()\n",
    "sample_std = medical['charges'].std(ddof=1)\n",
    "df = medical.shape[0]-1\n",
    "print(sample_mean, sample_std)\n",
    "fig, (ax1,ax2) = plt.subplots(nrows=1,ncols=2, figsize=(15,8))\n",
    "ax1.hist(medical['charges'], histtype= 'step')\n",
    "ax1.axvline(sample_mean, color='r', label=np.round(sample_mean))\n",
    "ax1.axvline(12000, color='g', linestyle='--', label='12000')\n",
    "ax2.boxplot(medical.charges)\n",
    "ax2.yaxis.grid(True,linestyle='--')\n",
    "ax2.axhline(sample_mean, color='r', label=np.round(sample_mean))\n",
    "ax2.axhline(12000, color='g', linestyle='--', label='12000')\n",
    "ax1.set_title('Charges Distribution')\n",
    "ax2.set_title('Charges Box Plot')\n",
    "plt.legend()\n",
    "plt.show()"
   ],
   "metadata": {
    "collapsed": false,
    "pycharm": {
     "name": "#%%\n"
    }
   }
  },
  {
   "cell_type": "markdown",
   "metadata": {},
   "source": [
    "__Q2:__ The administrator is concerned that the actual average charge has fallen below 12,000, threatening the hospital's operational model. On the assumption that these ***data represent a random sample of charges***, how would you justify that these data allow you to answer that question? And what would be the most appropriate frequentist test, of the ones discussed so far, to apply?"
   ]
  },
  {
   "cell_type": "markdown",
   "metadata": {},
   "source": [
    "__A:__ As we know by CLT, with the increase in sample size, the mean of the sample distribution tends to move towards normal distribution, irrespective of the original distribution. Here also we can take various samples from the given sample and apply our CL theorem. Since the sample size if fairly big, we should apply Z-test."
   ]
  },
  {
   "cell_type": "code",
   "execution_count": 239,
   "outputs": [
    {
     "name": "stdout",
     "output_type": "stream",
     "text": [
      "without reducing noise from the sample mean 13281.52138511834\n"
     ]
    },
    {
     "data": {
      "text/plain": "<Figure size 432x288 with 1 Axes>",
      "image/png": "[encoded data removed]"
     },
     "metadata": {
      "needs_background": "light"
     },
     "output_type": "display_data"
    }
   ],
   "source": [
    "# boot strapp\n",
    "data = np.array(medical.charges)\n",
    "def bs_sample(n):\n",
    "    return np.random.choice(data, n)\n",
    "\n",
    "_bs = [np.mean(bs_sample(100)) for _ in range(1000)]\n",
    "print ('without reducing noise from the sample mean', np.mean(_bs))\n",
    "plt.hist(_bs, density=True, bins = 50, histtype='step')\n",
    "plt.axvline(x=12000, color = 'r')\n",
    "plt.xlabel('Charges')\n",
    "plt.ylabel('Probability')\n",
    "plt.show()\n",
    "\n",
    "# Question: Sampling with more than 200 and repeating it 5000 times, shifts the population mean 12000 to the left of the normal distribution.\n",
    "# How to know that we have had correct sample size and not done oversampling or we have not added noise to our sample...."
   ],
   "metadata": {
    "collapsed": false,
    "pycharm": {
     "name": "#%%\n"
    }
   }
  },
  {
   "cell_type": "markdown",
   "metadata": {},
   "source": [
    "__Q3:__ Given the nature of the administrator's concern, what is the appropriate confidence interval in this case? A ***one-sided*** or ***two-sided*** interval? (Refresh your understanding of this concept on p. 399 of the *AoS*). Calculate the critical value and the relevant 95% confidence interval for the mean, and comment on whether the administrator should be concerned."
   ]
  },
  {
   "cell_type": "markdown",
   "metadata": {},
   "source": [
    "__A:__ To address the concern, we just need to determine if the mean charge of the population falls below 12000, so one tailed test would suffice."
   ]
  },
  {
   "cell_type": "code",
   "execution_count": 240,
   "metadata": {},
   "outputs": [
    {
     "name": "stdout",
     "output_type": "stream",
     "text": [
      "1.6459941145571324\n",
      "margin of error =  544.9350813250253\n",
      "confidence interval =  12725.48718381623\n"
     ]
    }
   ],
   "source": [
    "\n",
    "# t = (x-μ) / (s/√n)\n",
    "tscore = abs(t.ppf(.05, df=df))\n",
    "print ( tscore )\n",
    "std_error = (sample_std/np.sqrt(df+1))\n",
    "me = tscore * std_error\n",
    "print ('margin of error = ',me)\n",
    "cli = sample_mean - me\n",
    "print ('confidence interval = ', cli)\n"
   ]
  },
  {
   "cell_type": "markdown",
   "metadata": {},
   "source": [
    "The administrator then wants to know whether people with insurance really are charged a different amount to those without.\n",
    "\n",
    "__Q4:__ State the null and alternative hypothesis here. Use the _t_-test for the difference between means, where the pooled standard deviation of the two groups is given by:\n",
    "\\begin{equation}\n",
    "s_p = \\sqrt{\\frac{(n_0 - 1)s^2_0 + (n_1 - 1)s^2_1}{n_0 + n_1 - 2}}\n",
    "\\end{equation}\n",
    "\n",
    "and the *t*-test statistic is then given by:\n",
    "\n",
    "\\begin{equation}\n",
    "t = \\frac{\\bar{x}_0 - \\bar{x}_1}{s_p \\sqrt{1/n_0 + 1/n_1}}.\n",
    "\\end{equation}\n",
    "\n",
    "(If you need some reminding of the general definition of ***t-statistic***, check out the definition on p. 404 of *AoS*). \n",
    "\n",
    "What assumption about the variances of the two groups are we making here?"
   ]
  },
  {
   "cell_type": "markdown",
   "metadata": {},
   "source": [
    "__A:__"
   ]
  },
  {
   "cell_type": "markdown",
   "metadata": {},
   "source": [
    "__Q5:__ Perform this hypothesis test both manually, using the above formulae, and then using the appropriate function from [scipy.stats](https://docs.scipy.org/doc/scipy/reference/stats.html#statistical-tests) (hint, you're looking for a function to perform a _t_-test on two independent samples). For the manual approach, calculate the value of the test statistic and then its probability (the p-value). Verify you get the same results from both."
   ]
  },
  {
   "cell_type": "markdown",
   "metadata": {},
   "source": [
    "__A:__"
   ]
  },
  {
   "cell_type": "code",
   "execution_count": 329,
   "outputs": [
    {
     "name": "stdout",
     "output_type": "stream",
     "text": [
      "Statistics for \"charges with insuranceclaim\" \n",
      "count = 783\n",
      "mean = 16423.928276537677\n",
      "std = 14036.956250260417\n"
     ]
    }
   ],
   "source": [
    "charges_med_ins_claim = np.array(medical[medical.insuranceclaim == 1]['charges'])\n",
    "charges_med_ins_noclaim = np.array(medical[medical.insuranceclaim == 0]['charges'])\n",
    "print ('Statistics for \"charges with insuranceclaim\" ')\n",
    "n0 = len(charges_med_ins_claim)\n",
    "ic_mean = np.mean(charges_med_ins_claim)\n",
    "ic_std = np.std(charges_med_ins_claim)\n",
    "print (\"count =\", n0)\n",
    "print (\"mean =\", ic_mean)\n",
    "print (\"std =\", ic_std)\n",
    "#\n"
   ],
   "metadata": {
    "collapsed": false,
    "pycharm": {
     "name": "#%%\n"
    }
   }
  },
  {
   "cell_type": "code",
   "execution_count": 338,
   "outputs": [
    {
     "name": "stdout",
     "output_type": "stream",
     "text": [
      "Statistics for \"charges with no insuranceclaim\" \n",
      "count = 555\n",
      "mean = 8821.421892306305\n",
      "std = 6440.699841605235\n"
     ]
    }
   ],
   "source": [
    "n1 = len(charges_med_ins_noclaim)\n",
    "nic_mean = np.mean(charges_med_ins_noclaim)\n",
    "nic_std = np.std(charges_med_ins_noclaim)\n",
    "#\n",
    "print ('Statistics for \"charges with no insuranceclaim\" ')\n",
    "print (\"count =\", n1)\n",
    "print (\"mean =\", nic_mean)\n",
    "print (\"std =\", nic_std)"
   ],
   "metadata": {
    "collapsed": false,
    "pycharm": {
     "name": "#%%\n"
    }
   }
  },
  {
   "cell_type": "code",
   "execution_count": 339,
   "outputs": [
    {
     "name": "stdout",
     "output_type": "stream",
     "text": [
      "df= 1336 t-value= 11.9013 p-value= [4.09085798e-31]\n"
     ]
    }
   ],
   "source": [
    "# Manual approach\n",
    "df0 = (n0 -1)\n",
    "df1 = (n1-1) # ( n0+n1 - 2)\n",
    "sp  = np.sqrt(((df0*ic_std ** 2) + (df1 * nic_std ** 2))/ (df0+df1))\n",
    "# sp1 = np.sqrt((((n1-1)*s1**2)+((n2-1)*s2**2))/(n1+n2-2))\n",
    "# sp, sp1\n",
    "# s1, ic_std, s2, nic_std\n",
    "tvalue = round((ic_mean - nic_mean)/(sp* np.sqrt(1/n0 + 1/n1)),4)\n",
    "tvalue\n",
    "pvalue = stats.t.sf([tvalue], df0+df1)*2\n",
    "pvalue\n",
    "print ('df=', df0+df1, 't-value=', tvalue, 'p-value=', pvalue)"
   ],
   "metadata": {
    "collapsed": false,
    "pycharm": {
     "name": "#%%\n"
    }
   }
  },
  {
   "cell_type": "code",
   "execution_count": 342,
   "outputs": [
    {
     "data": {
      "text/plain": "NormaltestResult(statistic=173.38173520712095, pvalue=2.2419946316793388e-38)"
     },
     "execution_count": 342,
     "metadata": {},
     "output_type": "execute_result"
    }
   ],
   "source": [
    "stats.ttest_ind(charges_med_ins_claim, charges_med_ins_noclaim)\n"
   ],
   "metadata": {
    "collapsed": false,
    "pycharm": {
     "name": "#%%\n"
    }
   }
  },
  {
   "cell_type": "markdown",
   "source": [
    " ### A different approach"
   ],
   "metadata": {
    "collapsed": false
   }
  },
  {
   "cell_type": "code",
   "execution_count": 241,
   "metadata": {},
   "outputs": [
    {
     "data": {
      "text/plain": "                count          mean           std        min          25%  \\\ninsuranceclaim                                                              \n0               555.0   8821.421892   6446.510127  1121.8739  4445.337575   \n1               783.0  16423.928277  14045.928419  1131.5066  5733.288925   \n\n                        50%           75%          max  \ninsuranceclaim                                          \n0                6933.24225  11424.211575  36910.60803  \n1               11538.42100  23484.788875  63770.42801  ",
      "text/html": "<div>\n<style scoped>\n    .dataframe tbody tr th:only-of-type {\n        vertical-align: middle;\n    }\n\n    .dataframe tbody tr th {\n        vertical-align: top;\n    }\n\n    .dataframe thead th {\n        text-align: right;\n    }\n</style>\n<table border=\"1\" class=\"dataframe\">\n  <thead>\n    <tr style=\"text-align: right;\">\n      <th></th>\n      <th>count</th>\n      <th>mean</th>\n      <th>std</th>\n      <th>min</th>\n      <th>25%</th>\n      <th>50%</th>\n      <th>75%</th>\n      <th>max</th>\n    </tr>\n    <tr>\n      <th>insuranceclaim</th>\n      <th></th>\n      <th></th>\n      <th></th>\n      <th></th>\n      <th></th>\n      <th></th>\n      <th></th>\n      <th></th>\n    </tr>\n  </thead>\n  <tbody>\n    <tr>\n      <th>0</th>\n      <td>555.0</td>\n      <td>8821.421892</td>\n      <td>6446.510127</td>\n      <td>1121.8739</td>\n      <td>4445.337575</td>\n      <td>6933.24225</td>\n      <td>11424.211575</td>\n      <td>36910.60803</td>\n    </tr>\n    <tr>\n      <th>1</th>\n      <td>783.0</td>\n      <td>16423.928277</td>\n      <td>14045.928419</td>\n      <td>1131.5066</td>\n      <td>5733.288925</td>\n      <td>11538.42100</td>\n      <td>23484.788875</td>\n      <td>63770.42801</td>\n    </tr>\n  </tbody>\n</table>\n</div>"
     },
     "execution_count": 241,
     "metadata": {},
     "output_type": "execute_result"
    }
   ],
   "source": [
    "medical.groupby('insuranceclaim')['charges'].describe()"
   ]
  },
  {
   "cell_type": "markdown",
   "source": [
    "Are the difference in the mean charges for those with and without insuranceclaim significant?"
   ],
   "metadata": {
    "collapsed": false
   }
  },
  {
   "cell_type": "code",
   "execution_count": 242,
   "metadata": {},
   "outputs": [
    {
     "data": {
      "text/plain": "<AxesSubplot:title={'center':'charges'}, xlabel='insuranceclaim'>"
     },
     "execution_count": 242,
     "metadata": {},
     "output_type": "execute_result"
    },
    {
     "data": {
      "text/plain": "<Figure size 720x576 with 1 Axes>",
      "image/png": "[encoded data removed]"
     },
     "metadata": {
      "needs_background": "light"
     },
     "output_type": "display_data"
    }
   ],
   "source": [
    "medical.boxplot(column='charges', by='insuranceclaim', figsize=(10,8) )"
   ]
  },
  {
   "cell_type": "code",
   "execution_count": 243,
   "metadata": {},
   "outputs": [
    {
     "name": "stdout",
     "output_type": "stream",
     "text": [
      "(783,) (555,)\n"
     ]
    }
   ],
   "source": [
    "# create 2 samples for insurance claims and without insurance claims.\n",
    "sample_ins = medical[medical.insuranceclaim == 1]['charges']\n",
    "sample_no_ins = medical[medical.insuranceclaim == 0]['charges']\n",
    "print (sample_ins.shape, sample_no_ins.shape)"
   ]
  },
  {
   "cell_type": "code",
   "execution_count": 244,
   "metadata": {},
   "outputs": [
    {
     "data": {
      "text/plain": "LeveneResult(statistic=140.18901708358035, pvalue=1.5382456083455114e-30)"
     },
     "execution_count": 244,
     "metadata": {},
     "output_type": "execute_result"
    }
   ],
   "source": [
    "# for t test both the sample sizes should be same.\n",
    "seed(47)\n",
    "sample_ins = np.random.choice(sample_ins, sample_no_ins.shape[0])\n",
    "\n",
    "# check the assumptions for ttest.\n",
    "#. 1. Variance of the 2 groups are same.\n",
    "stats.levene(sample_ins, sample_no_ins)"
   ]
  },
  {
   "cell_type": "markdown",
   "source": [
    "The p value is significantly less between the two groups indicating we can reject the null hypothesis."
   ],
   "metadata": {
    "collapsed": false
   }
  },
  {
   "cell_type": "code",
   "execution_count": 245,
   "outputs": [
    {
     "data": {
      "text/plain": "(array([  3.,  19.,  36., 135., 166.,  63.,  41.,  47.,  37.,   8.]),\n array([-2.65962185, -2.11375063, -1.5678794 , -1.02200817, -0.47613695,\n         0.06973428,  0.61560551,  1.16147673,  1.70734796,  2.25321919,\n         2.79909041]),\n [<matplotlib.patches.Polygon at 0x7f978aaeab50>])"
     },
     "execution_count": 245,
     "metadata": {},
     "output_type": "execute_result"
    },
    {
     "data": {
      "text/plain": "<Figure size 432x288 with 1 Axes>",
      "image/png": "[encoded data removed]"
     },
     "metadata": {
      "needs_background": "light"
     },
     "output_type": "display_data"
    }
   ],
   "source": [
    "# assumption 2. The distribution of the residuals between 2 groups should follow the normal distribution.\n",
    "# scale distributes the residuals into standard normal distribution and would return the zscore.\n",
    "from sklearn.preprocessing import scale\n",
    "diff = scale(np.array(sample_ins) - np.array(sample_no_ins))\n",
    "plt.hist(diff, histtype='step')"
   ],
   "metadata": {
    "collapsed": false,
    "pycharm": {
     "name": "#%%\n"
    }
   }
  },
  {
   "cell_type": "code",
   "execution_count": 246,
   "outputs": [
    {
     "data": {
      "text/plain": "<Figure size 720x576 with 1 Axes>",
      "image/png": "[encoded data removed]"
     },
     "metadata": {
      "needs_background": "light"
     },
     "output_type": "display_data"
    }
   ],
   "source": [
    "# generate the qq plot (comparision of the residuals against the normal distribution).\n",
    "plt.figure(figsize=(10,8))\n",
    "stats.probplot(diff, plot=plt, dist='norm')\n",
    "plt.show()"
   ],
   "metadata": {
    "collapsed": false,
    "pycharm": {
     "name": "#%%\n"
    }
   }
  },
  {
   "cell_type": "markdown",
   "source": [
    "The plot shows the data roughly follows the normal distribution."
   ],
   "metadata": {
    "collapsed": false
   }
  },
  {
   "cell_type": "code",
   "execution_count": 247,
   "outputs": [
    {
     "data": {
      "text/plain": "ShapiroResult(statistic=0.9546020030975342, pvalue=4.8517938798509075e-12)"
     },
     "execution_count": 247,
     "metadata": {},
     "output_type": "execute_result"
    }
   ],
   "source": [
    "# confirm with shapiro-wilk test for normality. which states that if the test statistics are not significant then the data is normally distributed.\n",
    "stats.shapiro(diff)"
   ],
   "metadata": {
    "collapsed": false,
    "pycharm": {
     "name": "#%%\n"
    }
   }
  },
  {
   "cell_type": "markdown",
   "source": [
    "The test statistics above are significant. Which suggest the data is not normally distributed."
   ],
   "metadata": {
    "collapsed": false
   }
  },
  {
   "cell_type": "code",
   "execution_count": 343,
   "outputs": [
    {
     "data": {
      "text/plain": "Ttest_indResult(statistic=11.760042821295151, pvalue=3.5832142207067065e-30)"
     },
     "execution_count": 343,
     "metadata": {},
     "output_type": "execute_result"
    }
   ],
   "source": [
    "stats.ttest_ind(sample_ins, sample_no_ins)"
   ],
   "metadata": {
    "collapsed": false,
    "pycharm": {
     "name": "#%%\n"
    }
   }
  },
  {
   "cell_type": "markdown",
   "source": [
    "The P value is negiligible, means the mean difference are significant."
   ],
   "metadata": {
    "collapsed": false
   }
  },
  {
   "cell_type": "code",
   "execution_count": 358,
   "outputs": [
    {
     "data": {
      "text/plain": "   Variable       N          Mean            SD          SE     95% Conf.  \\\n0   charges   555.0  16686.500311  14376.646122  610.254641  15487.804413   \n1   charges   555.0   8821.421892   6446.510127  273.639115   8283.924817   \n2  combined  1110.0  12753.961102  11810.571945  354.494450  12058.405631   \n\n       Interval  \n0  17885.196209  \n1   9358.918968  \n2  13449.516573  ",
      "text/html": "<div>\n<style scoped>\n    .dataframe tbody tr th:only-of-type {\n        vertical-align: middle;\n    }\n\n    .dataframe tbody tr th {\n        vertical-align: top;\n    }\n\n    .dataframe thead th {\n        text-align: right;\n    }\n</style>\n<table border=\"1\" class=\"dataframe\">\n  <thead>\n    <tr style=\"text-align: right;\">\n      <th></th>\n      <th>Variable</th>\n      <th>N</th>\n      <th>Mean</th>\n      <th>SD</th>\n      <th>SE</th>\n      <th>95% Conf.</th>\n      <th>Interval</th>\n    </tr>\n  </thead>\n  <tbody>\n    <tr>\n      <th>0</th>\n      <td>charges</td>\n      <td>555.0</td>\n      <td>16686.500311</td>\n      <td>14376.646122</td>\n      <td>610.254641</td>\n      <td>15487.804413</td>\n      <td>17885.196209</td>\n    </tr>\n    <tr>\n      <th>1</th>\n      <td>charges</td>\n      <td>555.0</td>\n      <td>8821.421892</td>\n      <td>6446.510127</td>\n      <td>273.639115</td>\n      <td>8283.924817</td>\n      <td>9358.918968</td>\n    </tr>\n    <tr>\n      <th>2</th>\n      <td>combined</td>\n      <td>1110.0</td>\n      <td>12753.961102</td>\n      <td>11810.571945</td>\n      <td>354.494450</td>\n      <td>12058.405631</td>\n      <td>13449.516573</td>\n    </tr>\n  </tbody>\n</table>\n</div>"
     },
     "execution_count": 358,
     "metadata": {},
     "output_type": "execute_result"
    }
   ],
   "source": [
    "# confirm the above statistics with researchpy library.\n",
    "import researchpy as rp\n",
    "s_ins = pd.DataFrame(sample_ins, columns = ['charges'])\n",
    "s_no_ins = pd.DataFrame(sample_no_ins, columns = ['charges'])\n",
    "descriptive, results = rp.ttest(s_ins['charges'], s_no_ins['charges'])\n",
    "descriptive"
   ],
   "metadata": {
    "collapsed": false,
    "pycharm": {
     "name": "#%%\n"
    }
   }
  },
  {
   "cell_type": "code",
   "execution_count": 359,
   "outputs": [
    {
     "name": "stdout",
     "output_type": "stream",
     "text": [
      "                  Independent t-test    results\n",
      "0  Difference (charges - charges) =   7865.0784\n",
      "1              Degrees of freedom =   1108.0000\n",
      "2                               t =     11.7600\n",
      "3           Two side test p value =      0.0000\n",
      "4          Difference < 0 p value =      1.0000\n",
      "5          Difference > 0 p value =      0.0000\n",
      "6                       Cohen's d =      0.7060\n",
      "7                       Hedge's g =      0.7055\n",
      "8                   Glass's delta =      0.5471\n",
      "9                     Pearson's r =      0.3331\n"
     ]
    }
   ],
   "source": [
    "print (results)"
   ],
   "metadata": {
    "collapsed": false,
    "pycharm": {
     "name": "#%%\n"
    }
   }
  },
  {
   "cell_type": "markdown",
   "metadata": {},
   "source": [
    "Congratulations! Hopefully you got the exact same numerical results. This shows that you correctly calculated the numbers by hand. Secondly, you used the correct function and saw that it's much easier to use. All you need to do is pass your data to it."
   ]
  },
  {
   "cell_type": "markdown",
   "metadata": {},
   "source": [
    "__Q6:__ Conceptual question: look through the documentation for statistical test functions in scipy.stats. You'll see the above _t_-test for a sample, but can you see an equivalent one for performing a *z*-test from a sample? Comment on your answer."
   ]
  },
  {
   "cell_type": "markdown",
   "metadata": {},
   "source": [
    "__A:__"
   ]
  },
  {
   "cell_type": "markdown",
   "metadata": {},
   "source": [
    "## Learning outcomes"
   ]
  },
  {
   "cell_type": "markdown",
   "metadata": {},
   "source": [
    "Having completed this project notebook, you now have good hands-on experience:\n",
    "* using the central limit theorem to help you apply frequentist techniques to answer questions that pertain to very non-normally distributed data from the real world\n",
    "* performing inference using such data to answer business questions\n",
    "* forming a hypothesis and framing the null and alternative hypotheses\n",
    "* testing this using a _t_-test"
   ]
  }
 ],
 "metadata": {
  "kernelspec": {
   "name": "pycharm-b50abfb3",
   "language": "python",
   "display_name": "PyCharm (DS Career Track)"
  },
  "language_info": {
   "codemirror_mode": {
    "name": "ipython",
    "version": 3
   },
   "file_extension": ".py",
   "mimetype": "text/x-python",
   "name": "python",
   "nbconvert_exporter": "python",
   "pygments_lexer": "ipython3",
   "version": "3.7.3"
  }
 },
 "nbformat": 4,
 "nbformat_minor": 2
}