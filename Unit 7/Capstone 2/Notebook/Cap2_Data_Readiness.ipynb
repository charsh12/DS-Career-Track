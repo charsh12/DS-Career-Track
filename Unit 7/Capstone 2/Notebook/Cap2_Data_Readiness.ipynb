{
 "cells": [
  {
   "cell_type": "code",
   "execution_count": 29,
   "metadata": {
    "collapsed": true
   },
   "outputs": [],
   "source": [
    "import numpy as np\n",
    "import pandas as pd\n",
    "import matplotlib.pyplot as plt\n",
    "import seaborn as sns"
   ]
  },
  {
   "cell_type": "code",
   "execution_count": 42,
   "outputs": [],
   "source": [
    "# Internet shopping - https://www.cc.gatech.edu/gvu/user_surveys/survey-1997-10/datasets/final_shopping.repl\n",
    "# Technology Demographics - https://www.cc.gatech.edu/gvu/user_surveys/survey-1997-10/datasets/final_technology.repl\n",
    "# Web and Internet Use - https://www.cc.gatech.edu/gvu/user_surveys/survey-1997-10/datasets/final_use.repl\n",
    "\n",
    "url_internet_shopping = \"https://www.cc.gatech.edu/gvu/user_surveys/survey-1997-10/datasets/final_shopping.repl\"\n",
    "url_tech_demographics = \"https://www.cc.gatech.edu/gvu/user_surveys/survey-1997-10/datasets/final_technology.repl\"\n",
    "url_web_internet_use = \"https://www.cc.gatech.edu/gvu/user_surveys/survey-1997-10/datasets/final_use.repl\"\n",
    "\n",
    "df_internet_shopping = pd.read_csv(url_internet_shopping,sep=\"\\t\" )\n",
    "df_tech_demographics = pd.read_csv(url_tech_demographics, sep=\"\\t\")\n",
    "df_web_internet_use = pd.read_csv(url_web_internet_use, sep=\"\\t\")"
   ],
   "metadata": {
    "collapsed": false,
    "pycharm": {
     "name": "#%%\n"
    }
   }
  },
  {
   "cell_type": "code",
   "execution_count": 31,
   "outputs": [
    {
     "name": "stdout",
     "output_type": "stream",
     "text": [
      "(7219, 106)\n",
      "(3253, 63)\n",
      "(7694, 101)\n"
     ]
    }
   ],
   "source": [
    "print (df_web_internet_use.shape)\n",
    "print (df_internet_shopping.shape)\n",
    "print (df_tech_demographics.shape)"
   ],
   "metadata": {
    "collapsed": false,
    "pycharm": {
     "name": "#%%\n"
    }
   }
  },
  {
   "cell_type": "code",
   "execution_count": 32,
   "outputs": [
    {
     "data": {
      "text/plain": "      Dissatisfying Experiences_Confusing_Personal  \\\n0                                                0   \n1                                                0   \n2                                                1   \n3                                                1   \n4                                                1   \n...                                            ...   \n3248                                             1   \n3249                                             0   \n3250                                             1   \n3251                                             1   \n3252                                             1   \n\n      Dissatisfying Experiences_Confusing_Professional  \\\n0                                                    0   \n1                                                    1   \n2                                                    1   \n3                                                    0   \n4                                                    1   \n...                                                ...   \n3248                                                 0   \n3249                                                 0   \n3250                                                 0   \n3251                                                 1   \n3252                                                 0   \n\n      Dissatisfying Experiences_Couldn't find_Personal  \\\n0                                                    0   \n1                                                    1   \n2                                                    1   \n3                                                    0   \n4                                                    1   \n...                                                ...   \n3248                                                 0   \n3249                                                 0   \n3250                                                 0   \n3251                                                 1   \n3252                                                 1   \n\n      Dissatisfying Experiences_Couldn't find_Professional  \\\n0                                                     0      \n1                                                     1      \n2                                                     1      \n3                                                     0      \n4                                                     1      \n...                                                 ...      \n3248                                                  0      \n3249                                                  0      \n3250                                                  0      \n3251                                                  1      \n3252                                                  0      \n\n      Dissatisfying Experiences_No_Personal  \\\n0                                         0   \n1                                         0   \n2                                         0   \n3                                         0   \n4                                         0   \n...                                     ...   \n3248                                      0   \n3249                                      1   \n3250                                      0   \n3251                                      0   \n3252                                      0   \n\n      Dissatisfying Experiences_No_Professional  \\\n0                                             0   \n1                                             0   \n2                                             0   \n3                                             0   \n4                                             0   \n...                                         ...   \n3248                                          0   \n3249                                          0   \n3250                                          0   \n3251                                          0   \n3252                                          1   \n\n      Dissatisfying Experiences_Obnoxious_Personal  \\\n0                                                0   \n1                                                0   \n2                                                1   \n3                                                0   \n4                                                1   \n...                                            ...   \n3248                                             0   \n3249                                             0   \n3250                                             0   \n3251                                             0   \n3252                                             0   \n\n      Dissatisfying Experiences_Obnoxious_Professional  \\\n0                                                    0   \n1                                                    0   \n2                                                    0   \n3                                                    0   \n4                                                    1   \n...                                                ...   \n3248                                                 0   \n3249                                                 0   \n3250                                                 0   \n3251                                                 0   \n3252                                                 0   \n\n      Dissatisfying Experiences_Other_Personal  \\\n0                                            0   \n1                                            0   \n2                                            0   \n3                                            0   \n4                                            1   \n...                                        ...   \n3248                                         0   \n3249                                         0   \n3250                                         0   \n3251                                         0   \n3252                                         0   \n\n      Dissatisfying Experiences_Other_Professional  ...  \\\n0                                                0  ...   \n1                                                0  ...   \n2                                                0  ...   \n3                                                0  ...   \n4                                                1  ...   \n...                                            ...  ...   \n3248                                             0  ...   \n3249                                             0  ...   \n3250                                             0  ...   \n3251                                             0  ...   \n3252                                             0  ...   \n\n      Type of Information_Not Applicable_Professional  \\\n0                                                   0   \n1                                                   0   \n2                                                   0   \n3                                                   0   \n4                                                   0   \n...                                               ...   \n3248                                                0   \n3249                                                0   \n3250                                                0   \n3251                                                0   \n3252                                                1   \n\n      Type of Information_Other_Personal  \\\n0                                      0   \n1                                      0   \n2                                      1   \n3                                      0   \n4                                      0   \n...                                  ...   \n3248                                   1   \n3249                                   0   \n3250                                   0   \n3251                                   0   \n3252                                   1   \n\n      Type of Information_Other_Professional  \\\n0                                          0   \n1                                          0   \n2                                          1   \n3                                          0   \n4                                          0   \n...                                      ...   \n3248                                       0   \n3249                                       0   \n3250                                       0   \n3251                                       0   \n3252                                       0   \n\n      Type of Information_Price_Personal  \\\n0                                      1   \n1                                      1   \n2                                      1   \n3                                      0   \n4                                      1   \n...                                  ...   \n3248                                   0   \n3249                                   1   \n3250                                   1   \n3251                                   1   \n3252                                   1   \n\n     Type of Information_Price_Professional  \\\n0                                         0   \n1                                         0   \n2                                         1   \n3                                         0   \n4                                         1   \n...                                     ...   \n3248                                      0   \n3249                                      0   \n3250                                      0   \n3251                                      1   \n3252                                      0   \n\n     Visiting Web Sites of Stores_Personal  \\\n0                                   Rarely   \n1                                   Rarely   \n2                                    Often   \n3                                   Rarely   \n4                                Sometimes   \n...                                    ...   \n3248                             Sometimes   \n3249                                 Often   \n3250                                 Often   \n3251                                Rarely   \n3252                             Sometimes   \n\n     Visiting Web Sites of Stores_Professional da_source      who Unnamed: 62  \n0                                          NaN       Go!  id95708         NaN  \n1                                   Don't know       Go!  id97218         NaN  \n2                                        Often       Go!  id97014         NaN  \n3                                          NaN       Go!  id98875         NaN  \n4                                       Rarely       Go!  id95752         NaN  \n...                                        ...       ...      ...         ...  \n3248                                       NaN       Go!  id92937         NaN  \n3249                                       NaN       Go!  id98120         NaN  \n3250                                       NaN       Go!  id99259         NaN  \n3251                                    Rarely       Go!  id96054         NaN  \n3252                                     Never       Go!  id96381         NaN  \n\n[3253 rows x 63 columns]",
      "text/html": "<div>\n<style scoped>\n    .dataframe tbody tr th:only-of-type {\n        vertical-align: middle;\n    }\n\n    .dataframe tbody tr th {\n        vertical-align: top;\n    }\n\n    .dataframe thead th {\n        text-align: right;\n    }\n</style>\n<table border=\"1\" class=\"dataframe\">\n  <thead>\n    <tr style=\"text-align: right;\">\n      <th></th>\n      <th>Dissatisfying Experiences_Confusing_Personal</th>\n      <th>Dissatisfying Experiences_Confusing_Professional</th>\n      <th>Dissatisfying Experiences_Couldn't find_Personal</th>\n      <th>Dissatisfying Experiences_Couldn't find_Professional</th>\n      <th>Dissatisfying Experiences_No_Personal</th>\n      <th>Dissatisfying Experiences_No_Professional</th>\n      <th>Dissatisfying Experiences_Obnoxious_Personal</th>\n      <th>Dissatisfying Experiences_Obnoxious_Professional</th>\n      <th>Dissatisfying Experiences_Other_Personal</th>\n      <th>Dissatisfying Experiences_Other_Professional</th>\n      <th>...</th>\n      <th>Type of Information_Not Applicable_Professional</th>\n      <th>Type of Information_Other_Personal</th>\n      <th>Type of Information_Other_Professional</th>\n      <th>Type of Information_Price_Personal</th>\n      <th>Type of Information_Price_Professional</th>\n      <th>Visiting Web Sites of Stores_Personal</th>\n      <th>Visiting Web Sites of Stores_Professional</th>\n      <th>da_source</th>\n      <th>who</th>\n      <th>Unnamed: 62</th>\n    </tr>\n  </thead>\n  <tbody>\n    <tr>\n      <th>0</th>\n      <td>0</td>\n      <td>0</td>\n      <td>0</td>\n      <td>0</td>\n      <td>0</td>\n      <td>0</td>\n      <td>0</td>\n      <td>0</td>\n      <td>0</td>\n      <td>0</td>\n      <td>...</td>\n      <td>0</td>\n      <td>0</td>\n      <td>0</td>\n      <td>1</td>\n      <td>0</td>\n      <td>Rarely</td>\n      <td>NaN</td>\n      <td>Go!</td>\n      <td>id95708</td>\n      <td>NaN</td>\n    </tr>\n    <tr>\n      <th>1</th>\n      <td>0</td>\n      <td>1</td>\n      <td>1</td>\n      <td>1</td>\n      <td>0</td>\n      <td>0</td>\n      <td>0</td>\n      <td>0</td>\n      <td>0</td>\n      <td>0</td>\n      <td>...</td>\n      <td>0</td>\n      <td>0</td>\n      <td>0</td>\n      <td>1</td>\n      <td>0</td>\n      <td>Rarely</td>\n      <td>Don't know</td>\n      <td>Go!</td>\n      <td>id97218</td>\n      <td>NaN</td>\n    </tr>\n    <tr>\n      <th>2</th>\n      <td>1</td>\n      <td>1</td>\n      <td>1</td>\n      <td>1</td>\n      <td>0</td>\n      <td>0</td>\n      <td>1</td>\n      <td>0</td>\n      <td>0</td>\n      <td>0</td>\n      <td>...</td>\n      <td>0</td>\n      <td>1</td>\n      <td>1</td>\n      <td>1</td>\n      <td>1</td>\n      <td>Often</td>\n      <td>Often</td>\n      <td>Go!</td>\n      <td>id97014</td>\n      <td>NaN</td>\n    </tr>\n    <tr>\n      <th>3</th>\n      <td>1</td>\n      <td>0</td>\n      <td>0</td>\n      <td>0</td>\n      <td>0</td>\n      <td>0</td>\n      <td>0</td>\n      <td>0</td>\n      <td>0</td>\n      <td>0</td>\n      <td>...</td>\n      <td>0</td>\n      <td>0</td>\n      <td>0</td>\n      <td>0</td>\n      <td>0</td>\n      <td>Rarely</td>\n      <td>NaN</td>\n      <td>Go!</td>\n      <td>id98875</td>\n      <td>NaN</td>\n    </tr>\n    <tr>\n      <th>4</th>\n      <td>1</td>\n      <td>1</td>\n      <td>1</td>\n      <td>1</td>\n      <td>0</td>\n      <td>0</td>\n      <td>1</td>\n      <td>1</td>\n      <td>1</td>\n      <td>1</td>\n      <td>...</td>\n      <td>0</td>\n      <td>0</td>\n      <td>0</td>\n      <td>1</td>\n      <td>1</td>\n      <td>Sometimes</td>\n      <td>Rarely</td>\n      <td>Go!</td>\n      <td>id95752</td>\n      <td>NaN</td>\n    </tr>\n    <tr>\n      <th>...</th>\n      <td>...</td>\n      <td>...</td>\n      <td>...</td>\n      <td>...</td>\n      <td>...</td>\n      <td>...</td>\n      <td>...</td>\n      <td>...</td>\n      <td>...</td>\n      <td>...</td>\n      <td>...</td>\n      <td>...</td>\n      <td>...</td>\n      <td>...</td>\n      <td>...</td>\n      <td>...</td>\n      <td>...</td>\n      <td>...</td>\n      <td>...</td>\n      <td>...</td>\n      <td>...</td>\n    </tr>\n    <tr>\n      <th>3248</th>\n      <td>1</td>\n      <td>0</td>\n      <td>0</td>\n      <td>0</td>\n      <td>0</td>\n      <td>0</td>\n      <td>0</td>\n      <td>0</td>\n      <td>0</td>\n      <td>0</td>\n      <td>...</td>\n      <td>0</td>\n      <td>1</td>\n      <td>0</td>\n      <td>0</td>\n      <td>0</td>\n      <td>Sometimes</td>\n      <td>NaN</td>\n      <td>Go!</td>\n      <td>id92937</td>\n      <td>NaN</td>\n    </tr>\n    <tr>\n      <th>3249</th>\n      <td>0</td>\n      <td>0</td>\n      <td>0</td>\n      <td>0</td>\n      <td>1</td>\n      <td>0</td>\n      <td>0</td>\n      <td>0</td>\n      <td>0</td>\n      <td>0</td>\n      <td>...</td>\n      <td>0</td>\n      <td>0</td>\n      <td>0</td>\n      <td>1</td>\n      <td>0</td>\n      <td>Often</td>\n      <td>NaN</td>\n      <td>Go!</td>\n      <td>id98120</td>\n      <td>NaN</td>\n    </tr>\n    <tr>\n      <th>3250</th>\n      <td>1</td>\n      <td>0</td>\n      <td>0</td>\n      <td>0</td>\n      <td>0</td>\n      <td>0</td>\n      <td>0</td>\n      <td>0</td>\n      <td>0</td>\n      <td>0</td>\n      <td>...</td>\n      <td>0</td>\n      <td>0</td>\n      <td>0</td>\n      <td>1</td>\n      <td>0</td>\n      <td>Often</td>\n      <td>NaN</td>\n      <td>Go!</td>\n      <td>id99259</td>\n      <td>NaN</td>\n    </tr>\n    <tr>\n      <th>3251</th>\n      <td>1</td>\n      <td>1</td>\n      <td>1</td>\n      <td>1</td>\n      <td>0</td>\n      <td>0</td>\n      <td>0</td>\n      <td>0</td>\n      <td>0</td>\n      <td>0</td>\n      <td>...</td>\n      <td>0</td>\n      <td>0</td>\n      <td>0</td>\n      <td>1</td>\n      <td>1</td>\n      <td>Rarely</td>\n      <td>Rarely</td>\n      <td>Go!</td>\n      <td>id96054</td>\n      <td>NaN</td>\n    </tr>\n    <tr>\n      <th>3252</th>\n      <td>1</td>\n      <td>0</td>\n      <td>1</td>\n      <td>0</td>\n      <td>0</td>\n      <td>1</td>\n      <td>0</td>\n      <td>0</td>\n      <td>0</td>\n      <td>0</td>\n      <td>...</td>\n      <td>1</td>\n      <td>1</td>\n      <td>0</td>\n      <td>1</td>\n      <td>0</td>\n      <td>Sometimes</td>\n      <td>Never</td>\n      <td>Go!</td>\n      <td>id96381</td>\n      <td>NaN</td>\n    </tr>\n  </tbody>\n</table>\n<p>3253 rows × 63 columns</p>\n</div>"
     },
     "execution_count": 32,
     "metadata": {},
     "output_type": "execute_result"
    }
   ],
   "source": [
    "df_internet_shopping"
   ],
   "metadata": {
    "collapsed": false,
    "pycharm": {
     "name": "#%%\n"
    }
   }
  },
  {
   "cell_type": "code",
   "execution_count": 33,
   "outputs": [
    {
     "data": {
      "text/plain": "     Browser You Expect to Use in 12 Months Connection Speed  Email Accounts  \\\n0                                 Navigator              14k       One, home   \n1                              Communicator               1m  Multiple, both   \n2                              Communicator              28k  Multiple, home   \n3                                 Microsoft               1m  Multiple, both   \n4                                 Navigator              56k  Multiple, both   \n...                                     ...              ...             ...   \n7689                           Communicator              56k       One, home   \n7690                              Navigator           Unsure        Separate   \n7691                              Navigator              33k        Separate   \n7692                              Navigator              33k       One, home   \n7693                              Navigator              14k  Multiple, both   \n\n      Email Experiences_Archive  Email Experiences_Corrupted  \\\n0                             1                            0   \n1                             1                            0   \n2                             1                            0   \n3                             1                            1   \n4                             1                            1   \n...                         ...                          ...   \n7689                          0                            1   \n7690                          0                            0   \n7691                          1                            0   \n7692                          0                            0   \n7693                          1                            0   \n\n     Email Experiences_Deleted  Email Experiences_None  \\\n0                            1                       0   \n1                            1                       0   \n2                            1                       0   \n3                            1                       0   \n4                            1                       0   \n...                        ...                     ...   \n7689                         1                       0   \n7690                         0                       0   \n7691                         0                       0   \n7692                         0                       0   \n7693                         1                       0   \n\n      Email Experiences_Read attach  Email Experiences_Received  \\\n0                                 0                           0   \n1                                 1                           1   \n2                                 1                           1   \n3                                 1                           1   \n4                                 1                           1   \n...                             ...                         ...   \n7689                              1                           1   \n7690                              1                           1   \n7691                              0                           1   \n7692                              0                           1   \n7693                              1                           1   \n\n      Email Experiences_Received HTML  ...  Why Email Package Was Chosen_Free  \\\n0                                   0  ...                                  1   \n1                                   0  ...                                  0   \n2                                   0  ...                                  0   \n3                                   1  ...                                  1   \n4                                   0  ...                                  0   \n...                               ...  ...                                ...   \n7689                                1  ...                                  0   \n7690                                0  ...                                  0   \n7691                                1  ...                                  0   \n7692                                0  ...                                  0   \n7693                                0  ...                                  0   \n\n      Why Email Package Was Chosen_Friends  \\\n0                                        0   \n1                                        0   \n2                                        1   \n3                                        0   \n4                                        0   \n...                                    ...   \n7689                                     0   \n7690                                     0   \n7691                                     0   \n7692                                     0   \n7693                                     0   \n\n      Why Email Package Was Chosen_Integrated  \\\n0                                           0   \n1                                           0   \n2                                           0   \n3                                           0   \n4                                           0   \n...                                       ...   \n7689                                        0   \n7690                                        0   \n7691                                        0   \n7692                                        0   \n7693                                        0   \n\n      Why Email Package Was Chosen_Magazine  \\\n0                                         0   \n1                                         0   \n2                                         0   \n3                                         0   \n4                                         0   \n...                                     ...   \n7689                                      0   \n7690                                      0   \n7691                                      0   \n7692                                      0   \n7693                                      0   \n\n      Why Email Package Was Chosen_Online  Why Email Package Was Chosen_Other  \\\n0                                       0                                   0   \n1                                       0                                   0   \n2                                       0                                   0   \n3                                       1                                   0   \n4                                       0                                   0   \n...                                   ...                                 ...   \n7689                                    0                                   0   \n7690                                    0                                   0   \n7691                                    0                                   0   \n7692                                    0                                   0   \n7693                                    0                                   0   \n\n      Why Email Package Was Chosen_Reputation  \\\n0                                           0   \n1                                           0   \n2                                           0   \n3                                           0   \n4                                           0   \n...                                       ...   \n7689                                        0   \n7690                                        0   \n7691                                        0   \n7692                                        0   \n7693                                        0   \n\n      Why Email Package Was Chosen_Trade Show  da_source      who  \n0                                           0        Go!  id95708  \n1                                           0        Go!  id97218  \n2                                           0        Go!  id91627  \n3                                           0        Go!  id49906  \n4                                           0        Go!  id89941  \n...                                       ...        ...      ...  \n7689                                        0        Go!  id98120  \n7690                                        0        Go!  id97004  \n7691                                        0        Go!  id96381  \n7692                                        0        Go!  id96993  \n7693                                        0        Go!  id92223  \n\n[7694 rows x 101 columns]",
      "text/html": "<div>\n<style scoped>\n    .dataframe tbody tr th:only-of-type {\n        vertical-align: middle;\n    }\n\n    .dataframe tbody tr th {\n        vertical-align: top;\n    }\n\n    .dataframe thead th {\n        text-align: right;\n    }\n</style>\n<table border=\"1\" class=\"dataframe\">\n  <thead>\n    <tr style=\"text-align: right;\">\n      <th></th>\n      <th>Browser You Expect to Use in 12 Months</th>\n      <th>Connection Speed</th>\n      <th>Email Accounts</th>\n      <th>Email Experiences_Archive</th>\n      <th>Email Experiences_Corrupted</th>\n      <th>Email Experiences_Deleted</th>\n      <th>Email Experiences_None</th>\n      <th>Email Experiences_Read attach</th>\n      <th>Email Experiences_Received</th>\n      <th>Email Experiences_Received HTML</th>\n      <th>...</th>\n      <th>Why Email Package Was Chosen_Free</th>\n      <th>Why Email Package Was Chosen_Friends</th>\n      <th>Why Email Package Was Chosen_Integrated</th>\n      <th>Why Email Package Was Chosen_Magazine</th>\n      <th>Why Email Package Was Chosen_Online</th>\n      <th>Why Email Package Was Chosen_Other</th>\n      <th>Why Email Package Was Chosen_Reputation</th>\n      <th>Why Email Package Was Chosen_Trade Show</th>\n      <th>da_source</th>\n      <th>who</th>\n    </tr>\n  </thead>\n  <tbody>\n    <tr>\n      <th>0</th>\n      <td>Navigator</td>\n      <td>14k</td>\n      <td>One, home</td>\n      <td>1</td>\n      <td>0</td>\n      <td>1</td>\n      <td>0</td>\n      <td>0</td>\n      <td>0</td>\n      <td>0</td>\n      <td>...</td>\n      <td>1</td>\n      <td>0</td>\n      <td>0</td>\n      <td>0</td>\n      <td>0</td>\n      <td>0</td>\n      <td>0</td>\n      <td>0</td>\n      <td>Go!</td>\n      <td>id95708</td>\n    </tr>\n    <tr>\n      <th>1</th>\n      <td>Communicator</td>\n      <td>1m</td>\n      <td>Multiple, both</td>\n      <td>1</td>\n      <td>0</td>\n      <td>1</td>\n      <td>0</td>\n      <td>1</td>\n      <td>1</td>\n      <td>0</td>\n      <td>...</td>\n      <td>0</td>\n      <td>0</td>\n      <td>0</td>\n      <td>0</td>\n      <td>0</td>\n      <td>0</td>\n      <td>0</td>\n      <td>0</td>\n      <td>Go!</td>\n      <td>id97218</td>\n    </tr>\n    <tr>\n      <th>2</th>\n      <td>Communicator</td>\n      <td>28k</td>\n      <td>Multiple, home</td>\n      <td>1</td>\n      <td>0</td>\n      <td>1</td>\n      <td>0</td>\n      <td>1</td>\n      <td>1</td>\n      <td>0</td>\n      <td>...</td>\n      <td>0</td>\n      <td>1</td>\n      <td>0</td>\n      <td>0</td>\n      <td>0</td>\n      <td>0</td>\n      <td>0</td>\n      <td>0</td>\n      <td>Go!</td>\n      <td>id91627</td>\n    </tr>\n    <tr>\n      <th>3</th>\n      <td>Microsoft</td>\n      <td>1m</td>\n      <td>Multiple, both</td>\n      <td>1</td>\n      <td>1</td>\n      <td>1</td>\n      <td>0</td>\n      <td>1</td>\n      <td>1</td>\n      <td>1</td>\n      <td>...</td>\n      <td>1</td>\n      <td>0</td>\n      <td>0</td>\n      <td>0</td>\n      <td>1</td>\n      <td>0</td>\n      <td>0</td>\n      <td>0</td>\n      <td>Go!</td>\n      <td>id49906</td>\n    </tr>\n    <tr>\n      <th>4</th>\n      <td>Navigator</td>\n      <td>56k</td>\n      <td>Multiple, both</td>\n      <td>1</td>\n      <td>1</td>\n      <td>1</td>\n      <td>0</td>\n      <td>1</td>\n      <td>1</td>\n      <td>0</td>\n      <td>...</td>\n      <td>0</td>\n      <td>0</td>\n      <td>0</td>\n      <td>0</td>\n      <td>0</td>\n      <td>0</td>\n      <td>0</td>\n      <td>0</td>\n      <td>Go!</td>\n      <td>id89941</td>\n    </tr>\n    <tr>\n      <th>...</th>\n      <td>...</td>\n      <td>...</td>\n      <td>...</td>\n      <td>...</td>\n      <td>...</td>\n      <td>...</td>\n      <td>...</td>\n      <td>...</td>\n      <td>...</td>\n      <td>...</td>\n      <td>...</td>\n      <td>...</td>\n      <td>...</td>\n      <td>...</td>\n      <td>...</td>\n      <td>...</td>\n      <td>...</td>\n      <td>...</td>\n      <td>...</td>\n      <td>...</td>\n      <td>...</td>\n    </tr>\n    <tr>\n      <th>7689</th>\n      <td>Communicator</td>\n      <td>56k</td>\n      <td>One, home</td>\n      <td>0</td>\n      <td>1</td>\n      <td>1</td>\n      <td>0</td>\n      <td>1</td>\n      <td>1</td>\n      <td>1</td>\n      <td>...</td>\n      <td>0</td>\n      <td>0</td>\n      <td>0</td>\n      <td>0</td>\n      <td>0</td>\n      <td>0</td>\n      <td>0</td>\n      <td>0</td>\n      <td>Go!</td>\n      <td>id98120</td>\n    </tr>\n    <tr>\n      <th>7690</th>\n      <td>Navigator</td>\n      <td>Unsure</td>\n      <td>Separate</td>\n      <td>0</td>\n      <td>0</td>\n      <td>0</td>\n      <td>0</td>\n      <td>1</td>\n      <td>1</td>\n      <td>0</td>\n      <td>...</td>\n      <td>0</td>\n      <td>0</td>\n      <td>0</td>\n      <td>0</td>\n      <td>0</td>\n      <td>0</td>\n      <td>0</td>\n      <td>0</td>\n      <td>Go!</td>\n      <td>id97004</td>\n    </tr>\n    <tr>\n      <th>7691</th>\n      <td>Navigator</td>\n      <td>33k</td>\n      <td>Separate</td>\n      <td>1</td>\n      <td>0</td>\n      <td>0</td>\n      <td>0</td>\n      <td>0</td>\n      <td>1</td>\n      <td>1</td>\n      <td>...</td>\n      <td>0</td>\n      <td>0</td>\n      <td>0</td>\n      <td>0</td>\n      <td>0</td>\n      <td>0</td>\n      <td>0</td>\n      <td>0</td>\n      <td>Go!</td>\n      <td>id96381</td>\n    </tr>\n    <tr>\n      <th>7692</th>\n      <td>Navigator</td>\n      <td>33k</td>\n      <td>One, home</td>\n      <td>0</td>\n      <td>0</td>\n      <td>0</td>\n      <td>0</td>\n      <td>0</td>\n      <td>1</td>\n      <td>0</td>\n      <td>...</td>\n      <td>0</td>\n      <td>0</td>\n      <td>0</td>\n      <td>0</td>\n      <td>0</td>\n      <td>0</td>\n      <td>0</td>\n      <td>0</td>\n      <td>Go!</td>\n      <td>id96993</td>\n    </tr>\n    <tr>\n      <th>7693</th>\n      <td>Navigator</td>\n      <td>14k</td>\n      <td>Multiple, both</td>\n      <td>1</td>\n      <td>0</td>\n      <td>1</td>\n      <td>0</td>\n      <td>1</td>\n      <td>1</td>\n      <td>0</td>\n      <td>...</td>\n      <td>0</td>\n      <td>0</td>\n      <td>0</td>\n      <td>0</td>\n      <td>0</td>\n      <td>0</td>\n      <td>0</td>\n      <td>0</td>\n      <td>Go!</td>\n      <td>id92223</td>\n    </tr>\n  </tbody>\n</table>\n<p>7694 rows × 101 columns</p>\n</div>"
     },
     "execution_count": 33,
     "metadata": {},
     "output_type": "execute_result"
    }
   ],
   "source": [
    "df_tech_demographics"
   ],
   "metadata": {
    "collapsed": false,
    "pycharm": {
     "name": "#%%\n"
    }
   }
  },
  {
   "cell_type": "code",
   "execution_count": 34,
   "outputs": [
    {
     "name": "stdout",
     "output_type": "stream",
     "text": [
      "<class 'pandas.core.frame.DataFrame'>\n",
      "RangeIndex: 7219 entries, 0 to 7218\n",
      "Data columns (total 106 columns):\n",
      " #    Column                                                                  Dtype  \n",
      "---   ------                                                                  -----  \n",
      " 0    Chat groups                                                             object \n",
      " 1    Cookie Policy                                                           object \n",
      " 2    Electronic News                                                         object \n",
      " 3    Favorites/Bookmarks Usage Patterns_Annotate                             int64  \n",
      " 4    Favorites/Bookmarks Usage Patterns_Change Title                         int64  \n",
      " 5    Favorites/Bookmarks Usage Patterns_Create Folders                       int64  \n",
      " 6    Favorites/Bookmarks Usage Patterns_Create New Entry                     int64  \n",
      " 7    Favorites/Bookmarks Usage Patterns_Create Subfolders                    int64  \n",
      " 8    Favorites/Bookmarks Usage Patterns_Delete Entry                         int64  \n",
      " 9    Favorites/Bookmarks Usage Patterns_Dont Use                             int64  \n",
      " 10   Favorites/Bookmarks Usage Patterns_Manually Re-arrange                  int64  \n",
      " 11   Favorites/Bookmarks Usage Patterns_Other                                int64  \n",
      " 12   Financial Material                                                      object \n",
      " 13   Frequency of Use                                                        object \n",
      " 14   Fun                                                                     object \n",
      " 15   Hours Used                                                              object \n",
      " 16   How Users Find out About WWW Pages_Books                                int64  \n",
      " 17   How Users Find out About WWW Pages_Directories                          int64  \n",
      " 18   How Users Find out About WWW Pages_Friends                              int64  \n",
      " 19   How Users Find out About WWW Pages_Other                                int64  \n",
      " 20   How Users Find out About WWW Pages_Printed Media                        int64  \n",
      " 21   How Users Find out About WWW Pages_Search Engines                       int64  \n",
      " 22   How Users Find out About WWW Pages_Sigs                                 int64  \n",
      " 23   How Users Find out About WWW Pages_TV                                   int64  \n",
      " 24   How Users Find out About WWW Pages_Usenet                               int64  \n",
      " 25   How Users Find out About WWW Pages_WWW Pages                            int64  \n",
      " 26   Image Loading                                                           object \n",
      " 27   Indispensable_3-D                                                       int64  \n",
      " 28   Indispensable_Audio                                                     int64  \n",
      " 29   Indispensable_Chat                                                      int64  \n",
      " 30   Indispensable_Digital sig                                               int64  \n",
      " 31   Indispensable_Don't know                                                int64  \n",
      " 32   Indispensable_Email                                                     int64  \n",
      " 33   Indispensable_Internet Fax                                              int64  \n",
      " 34   Indispensable_Internet Phone                                            int64  \n",
      " 35   Indispensable_Java                                                      int64  \n",
      " 36   Indispensable_Other                                                     int64  \n",
      " 37   Indispensable_Push                                                      int64  \n",
      " 38   Indispensable_Video                                                     int64  \n",
      " 39   Indispensable_WWW                                                       int64  \n",
      " 40   Instead of Watching TV                                                  object \n",
      " 41   Job listings                                                            object \n",
      " 42   Maps                                                                    object \n",
      " 43   Medical information                                                     object \n",
      " 44   Navigation Services_411                                                 int64  \n",
      " 45   Navigation Services_AOL NetFind                                         int64  \n",
      " 46   Navigation Services_Alta Vista                                          int64  \n",
      " 47   Navigation Services_Bigfoot                                             int64  \n",
      " 48   Navigation Services_Don't Know                                          int64  \n",
      " 49   Navigation Services_Excite                                              int64  \n",
      " 50   Navigation Services_GTE SuperPages                                      int64  \n",
      " 51   Navigation Services_HotBot                                              int64  \n",
      " 52   Navigation Services_InfoSeek                                            int64  \n",
      " 53   Navigation Services_Lycos                                               int64  \n",
      " 54   Navigation Services_Other                                               int64  \n",
      " 55   Navigation Services_Web Crawler                                         int64  \n",
      " 56   Navigation Services_WhoWhere                                            int64  \n",
      " 57   Navigation Services_Yahoo                                               int64  \n",
      " 58   Newsgroups                                                              object \n",
      " 59   Number of Items in Favorites/Bookmark                                   object \n",
      " 60   Personal                                                                object \n",
      " 61   Primary Uses of Browser_Communication                                   int64  \n",
      " 62   Primary Uses of Browser_Education                                       int64  \n",
      " 63   Primary Uses of Browser_Entertainment                                   int64  \n",
      " 64   Primary Uses of Browser_Other                                           int64  \n",
      " 65   Primary Uses of Browser_Personal info                                   int64  \n",
      " 66   Primary Uses of Browser_Shopping                                        int64  \n",
      " 67   Primary Uses of Browser_Time-wasting                                    int64  \n",
      " 68   Primary Uses of Browser_Work                                            int64  \n",
      " 69   Problems Using Favorites/Bookmarks_Changed Content                      int64  \n",
      " 70   Problems Using Favorites/Bookmarks_Complicated                          int64  \n",
      " 71   Problems Using Favorites/Bookmarks_Dont Use                             int64  \n",
      " 72   Problems Using Favorites/Bookmarks_No Problem                           int64  \n",
      " 73   Problems Using Favorites/Bookmarks_Organize                             int64  \n",
      " 74   Problems Using Favorites/Bookmarks_Other                                int64  \n",
      " 75   Problems Using Favorites/Bookmarks_Quick Storage                        int64  \n",
      " 76   Problems Using Favorites/Bookmarks_See All                              int64  \n",
      " 77   Problems Using the Web_Broken Links                                     int64  \n",
      " 78   Problems Using the Web_Cost                                             int64  \n",
      " 79   Problems Using the Web_Find Known Info                                  int64  \n",
      " 80   Problems Using the Web_Find new info                                    int64  \n",
      " 81   Problems Using the Web_Lost                                             int64  \n",
      " 82   Problems Using the Web_Organize                                         int64  \n",
      " 83   Problems Using the Web_Other                                            int64  \n",
      " 84   Problems Using the Web_Revisit                                          int64  \n",
      " 85   Problems Using the Web_Speed                                            int64  \n",
      " 86   Problems Using the Web_Vizualization                                    int64  \n",
      " 87   Product Information                                                     object \n",
      " 88   Real estate                                                             object \n",
      " 89   Reasons For Saving and Printing Documents_Archive Docs                  int64  \n",
      " 90   Reasons For Saving and Printing Documents_Distribute to Others Offline  int64  \n",
      " 91   Reasons For Saving and Printing Documents_Don't                         int64  \n",
      " 92   Reasons For Saving and Printing Documents_Fear Doc Will Dissappear      int64  \n",
      " 93   Reasons For Saving and Printing Documents_Mimic Format                  int64  \n",
      " 94   Reasons For Saving and Printing Documents_Other                         int64  \n",
      " 95   Reasons For Saving and Printing Documents_Read Offline                  int64  \n",
      " 96   Reasons For Saving and Printing Documents_Use Content                   int64  \n",
      " 97   Reasons For Saving and Printing Documents_Use Offline                   int64  \n",
      " 98   Reference Material                                                      object \n",
      " 99   Research Material                                                       object \n",
      " 100  Shopping                                                                object \n",
      " 101  Telephone listings                                                      object \n",
      " 102  Work                                                                    object \n",
      " 103  da_source                                                               object \n",
      " 104  who                                                                     object \n",
      " 105  Unnamed: 105                                                            float64\n",
      "dtypes: float64(1), int64(81), object(24)\n",
      "memory usage: 5.8+ MB\n"
     ]
    },
    {
     "data": {
      "text/plain": "(7219, 106)"
     },
     "execution_count": 34,
     "metadata": {},
     "output_type": "execute_result"
    }
   ],
   "source": [
    "# LOOK AT THE DIFFERENT COLUMNS AND FIND THE COLUMN OF INTERESTS.\n",
    "df_web_internet_use.info(verbose=True)\n",
    "df_web_internet_use.shape"
   ],
   "metadata": {
    "collapsed": false,
    "pycharm": {
     "name": "#%%\n"
    }
   }
  },
  {
   "cell_type": "code",
   "execution_count": 35,
   "outputs": [
    {
     "data": {
      "text/plain": "      Favorites/Bookmarks Usage Patterns_Annotate  \\\n0                                               0   \n1                                               0   \n2                                               0   \n3                                               1   \n4                                               0   \n...                                           ...   \n7214                                            0   \n7215                                            0   \n7216                                            0   \n7217                                            1   \n7218                                            0   \n\n      Favorites/Bookmarks Usage Patterns_Change Title  \\\n0                                                   0   \n1                                                   1   \n2                                                   0   \n3                                                   1   \n4                                                   0   \n...                                               ...   \n7214                                                0   \n7215                                                0   \n7216                                                1   \n7217                                                0   \n7218                                                1   \n\n      Favorites/Bookmarks Usage Patterns_Create Folders  \\\n0                                                     0   \n1                                                     1   \n2                                                     0   \n3                                                     1   \n4                                                     1   \n...                                                 ...   \n7214                                                  0   \n7215                                                  0   \n7216                                                  1   \n7217                                                  0   \n7218                                                  1   \n\n      Favorites/Bookmarks Usage Patterns_Create New Entry  \\\n0                                                     1     \n1                                                     1     \n2                                                     1     \n3                                                     1     \n4                                                     1     \n...                                                 ...     \n7214                                                  1     \n7215                                                  1     \n7216                                                  1     \n7217                                                  1     \n7218                                                  1     \n\n      Favorites/Bookmarks Usage Patterns_Create Subfolders  \\\n0                                                     0      \n1                                                     1      \n2                                                     0      \n3                                                     0      \n4                                                     0      \n...                                                 ...      \n7214                                                  0      \n7215                                                  0      \n7216                                                  1      \n7217                                                  0      \n7218                                                  0      \n\n      Favorites/Bookmarks Usage Patterns_Delete Entry  \\\n0                                                   1   \n1                                                   1   \n2                                                   1   \n3                                                   1   \n4                                                   1   \n...                                               ...   \n7214                                                1   \n7215                                                0   \n7216                                                1   \n7217                                                1   \n7218                                                1   \n\n      Favorites/Bookmarks Usage Patterns_Dont Use  \\\n0                                               0   \n1                                               0   \n2                                               0   \n3                                               0   \n4                                               0   \n...                                           ...   \n7214                                            0   \n7215                                            0   \n7216                                            0   \n7217                                            0   \n7218                                            0   \n\n      Favorites/Bookmarks Usage Patterns_Manually Re-arrange  \\\n0                                                     0        \n1                                                     1        \n2                                                     0        \n3                                                     1        \n4                                                     1        \n...                                                 ...        \n7214                                                  0        \n7215                                                  0        \n7216                                                  1        \n7217                                                  0        \n7218                                                  1        \n\n      Favorites/Bookmarks Usage Patterns_Other  \\\n0                                            0   \n1                                            0   \n2                                            0   \n3                                            0   \n4                                            0   \n...                                        ...   \n7214                                         0   \n7215                                         0   \n7216                                         0   \n7217                                         0   \n7218                                         0   \n\n      How Users Find out About WWW Pages_Books  ...  \\\n0                                            0  ...   \n1                                            0  ...   \n2                                            0  ...   \n3                                            1  ...   \n4                                            0  ...   \n...                                        ...  ...   \n7214                                         1  ...   \n7215                                         0  ...   \n7216                                         0  ...   \n7217                                         1  ...   \n7218                                         0  ...   \n\n      Reasons For Saving and Printing Documents_Archive Docs  \\\n0                                                     1        \n1                                                     0        \n2                                                     1        \n3                                                     0        \n4                                                     0        \n...                                                 ...        \n7214                                                  0        \n7215                                                  0        \n7216                                                  0        \n7217                                                  0        \n7218                                                  0        \n\n      Reasons For Saving and Printing Documents_Distribute to Others Offline  \\\n0                                                     0                        \n1                                                     1                        \n2                                                     0                        \n3                                                     1                        \n4                                                     0                        \n...                                                 ...                        \n7214                                                  0                        \n7215                                                  0                        \n7216                                                  0                        \n7217                                                  1                        \n7218                                                  1                        \n\n      Reasons For Saving and Printing Documents_Don't  \\\n0                                                   0   \n1                                                   0   \n2                                                   0   \n3                                                   0   \n4                                                   1   \n...                                               ...   \n7214                                                0   \n7215                                                0   \n7216                                                0   \n7217                                                0   \n7218                                                0   \n\n      Reasons For Saving and Printing Documents_Fear Doc Will Dissappear  \\\n0                                                     0                    \n1                                                     1                    \n2                                                     0                    \n3                                                     0                    \n4                                                     0                    \n...                                                 ...                    \n7214                                                  0                    \n7215                                                  0                    \n7216                                                  1                    \n7217                                                  0                    \n7218                                                  0                    \n\n      Reasons For Saving and Printing Documents_Mimic Format  \\\n0                                                     0        \n1                                                     1        \n2                                                     0        \n3                                                     1        \n4                                                     0        \n...                                                 ...        \n7214                                                  0        \n7215                                                  0        \n7216                                                  0        \n7217                                                  0        \n7218                                                  0        \n\n      Reasons For Saving and Printing Documents_Other  \\\n0                                                   0   \n1                                                   0   \n2                                                   0   \n3                                                   0   \n4                                                   0   \n...                                               ...   \n7214                                                1   \n7215                                                0   \n7216                                                1   \n7217                                                0   \n7218                                                0   \n\n      Reasons For Saving and Printing Documents_Read Offline  \\\n0                                                     0        \n1                                                     0        \n2                                                     0        \n3                                                     1        \n4                                                     0        \n...                                                 ...        \n7214                                                  1        \n7215                                                  0        \n7216                                                  1        \n7217                                                  1        \n7218                                                  0        \n\n      Reasons For Saving and Printing Documents_Use Content  \\\n0                                                     0       \n1                                                     0       \n2                                                     0       \n3                                                     1       \n4                                                     0       \n...                                                 ...       \n7214                                                  0       \n7215                                                  1       \n7216                                                  0       \n7217                                                  0       \n7218                                                  0       \n\n      Reasons For Saving and Printing Documents_Use Offline  Unnamed: 105  \n0                                                     1               NaN  \n1                                                     0               NaN  \n2                                                     1               NaN  \n3                                                     1               NaN  \n4                                                     0               NaN  \n...                                                 ...               ...  \n7214                                                  0               NaN  \n7215                                                  0               NaN  \n7216                                                  0               NaN  \n7217                                                  1               NaN  \n7218                                                  0               NaN  \n\n[7219 rows x 82 columns]",
      "text/html": "<div>\n<style scoped>\n    .dataframe tbody tr th:only-of-type {\n        vertical-align: middle;\n    }\n\n    .dataframe tbody tr th {\n        vertical-align: top;\n    }\n\n    .dataframe thead th {\n        text-align: right;\n    }\n</style>\n<table border=\"1\" class=\"dataframe\">\n  <thead>\n    <tr style=\"text-align: right;\">\n      <th></th>\n      <th>Favorites/Bookmarks Usage Patterns_Annotate</th>\n      <th>Favorites/Bookmarks Usage Patterns_Change Title</th>\n      <th>Favorites/Bookmarks Usage Patterns_Create Folders</th>\n      <th>Favorites/Bookmarks Usage Patterns_Create New Entry</th>\n      <th>Favorites/Bookmarks Usage Patterns_Create Subfolders</th>\n      <th>Favorites/Bookmarks Usage Patterns_Delete Entry</th>\n      <th>Favorites/Bookmarks Usage Patterns_Dont Use</th>\n      <th>Favorites/Bookmarks Usage Patterns_Manually Re-arrange</th>\n      <th>Favorites/Bookmarks Usage Patterns_Other</th>\n      <th>How Users Find out About WWW Pages_Books</th>\n      <th>...</th>\n      <th>Reasons For Saving and Printing Documents_Archive Docs</th>\n      <th>Reasons For Saving and Printing Documents_Distribute to Others Offline</th>\n      <th>Reasons For Saving and Printing Documents_Don't</th>\n      <th>Reasons For Saving and Printing Documents_Fear Doc Will Dissappear</th>\n      <th>Reasons For Saving and Printing Documents_Mimic Format</th>\n      <th>Reasons For Saving and Printing Documents_Other</th>\n      <th>Reasons For Saving and Printing Documents_Read Offline</th>\n      <th>Reasons For Saving and Printing Documents_Use Content</th>\n      <th>Reasons For Saving and Printing Documents_Use Offline</th>\n      <th>Unnamed: 105</th>\n    </tr>\n  </thead>\n  <tbody>\n    <tr>\n      <th>0</th>\n      <td>0</td>\n      <td>0</td>\n      <td>0</td>\n      <td>1</td>\n      <td>0</td>\n      <td>1</td>\n      <td>0</td>\n      <td>0</td>\n      <td>0</td>\n      <td>0</td>\n      <td>...</td>\n      <td>1</td>\n      <td>0</td>\n      <td>0</td>\n      <td>0</td>\n      <td>0</td>\n      <td>0</td>\n      <td>0</td>\n      <td>0</td>\n      <td>1</td>\n      <td>NaN</td>\n    </tr>\n    <tr>\n      <th>1</th>\n      <td>0</td>\n      <td>1</td>\n      <td>1</td>\n      <td>1</td>\n      <td>1</td>\n      <td>1</td>\n      <td>0</td>\n      <td>1</td>\n      <td>0</td>\n      <td>0</td>\n      <td>...</td>\n      <td>0</td>\n      <td>1</td>\n      <td>0</td>\n      <td>1</td>\n      <td>1</td>\n      <td>0</td>\n      <td>0</td>\n      <td>0</td>\n      <td>0</td>\n      <td>NaN</td>\n    </tr>\n    <tr>\n      <th>2</th>\n      <td>0</td>\n      <td>0</td>\n      <td>0</td>\n      <td>1</td>\n      <td>0</td>\n      <td>1</td>\n      <td>0</td>\n      <td>0</td>\n      <td>0</td>\n      <td>0</td>\n      <td>...</td>\n      <td>1</td>\n      <td>0</td>\n      <td>0</td>\n      <td>0</td>\n      <td>0</td>\n      <td>0</td>\n      <td>0</td>\n      <td>0</td>\n      <td>1</td>\n      <td>NaN</td>\n    </tr>\n    <tr>\n      <th>3</th>\n      <td>1</td>\n      <td>1</td>\n      <td>1</td>\n      <td>1</td>\n      <td>0</td>\n      <td>1</td>\n      <td>0</td>\n      <td>1</td>\n      <td>0</td>\n      <td>1</td>\n      <td>...</td>\n      <td>0</td>\n      <td>1</td>\n      <td>0</td>\n      <td>0</td>\n      <td>1</td>\n      <td>0</td>\n      <td>1</td>\n      <td>1</td>\n      <td>1</td>\n      <td>NaN</td>\n    </tr>\n    <tr>\n      <th>4</th>\n      <td>0</td>\n      <td>0</td>\n      <td>1</td>\n      <td>1</td>\n      <td>0</td>\n      <td>1</td>\n      <td>0</td>\n      <td>1</td>\n      <td>0</td>\n      <td>0</td>\n      <td>...</td>\n      <td>0</td>\n      <td>0</td>\n      <td>1</td>\n      <td>0</td>\n      <td>0</td>\n      <td>0</td>\n      <td>0</td>\n      <td>0</td>\n      <td>0</td>\n      <td>NaN</td>\n    </tr>\n    <tr>\n      <th>...</th>\n      <td>...</td>\n      <td>...</td>\n      <td>...</td>\n      <td>...</td>\n      <td>...</td>\n      <td>...</td>\n      <td>...</td>\n      <td>...</td>\n      <td>...</td>\n      <td>...</td>\n      <td>...</td>\n      <td>...</td>\n      <td>...</td>\n      <td>...</td>\n      <td>...</td>\n      <td>...</td>\n      <td>...</td>\n      <td>...</td>\n      <td>...</td>\n      <td>...</td>\n      <td>...</td>\n    </tr>\n    <tr>\n      <th>7214</th>\n      <td>0</td>\n      <td>0</td>\n      <td>0</td>\n      <td>1</td>\n      <td>0</td>\n      <td>1</td>\n      <td>0</td>\n      <td>0</td>\n      <td>0</td>\n      <td>1</td>\n      <td>...</td>\n      <td>0</td>\n      <td>0</td>\n      <td>0</td>\n      <td>0</td>\n      <td>0</td>\n      <td>1</td>\n      <td>1</td>\n      <td>0</td>\n      <td>0</td>\n      <td>NaN</td>\n    </tr>\n    <tr>\n      <th>7215</th>\n      <td>0</td>\n      <td>0</td>\n      <td>0</td>\n      <td>1</td>\n      <td>0</td>\n      <td>0</td>\n      <td>0</td>\n      <td>0</td>\n      <td>0</td>\n      <td>0</td>\n      <td>...</td>\n      <td>0</td>\n      <td>0</td>\n      <td>0</td>\n      <td>0</td>\n      <td>0</td>\n      <td>0</td>\n      <td>0</td>\n      <td>1</td>\n      <td>0</td>\n      <td>NaN</td>\n    </tr>\n    <tr>\n      <th>7216</th>\n      <td>0</td>\n      <td>1</td>\n      <td>1</td>\n      <td>1</td>\n      <td>1</td>\n      <td>1</td>\n      <td>0</td>\n      <td>1</td>\n      <td>0</td>\n      <td>0</td>\n      <td>...</td>\n      <td>0</td>\n      <td>0</td>\n      <td>0</td>\n      <td>1</td>\n      <td>0</td>\n      <td>1</td>\n      <td>1</td>\n      <td>0</td>\n      <td>0</td>\n      <td>NaN</td>\n    </tr>\n    <tr>\n      <th>7217</th>\n      <td>1</td>\n      <td>0</td>\n      <td>0</td>\n      <td>1</td>\n      <td>0</td>\n      <td>1</td>\n      <td>0</td>\n      <td>0</td>\n      <td>0</td>\n      <td>1</td>\n      <td>...</td>\n      <td>0</td>\n      <td>1</td>\n      <td>0</td>\n      <td>0</td>\n      <td>0</td>\n      <td>0</td>\n      <td>1</td>\n      <td>0</td>\n      <td>1</td>\n      <td>NaN</td>\n    </tr>\n    <tr>\n      <th>7218</th>\n      <td>0</td>\n      <td>1</td>\n      <td>1</td>\n      <td>1</td>\n      <td>0</td>\n      <td>1</td>\n      <td>0</td>\n      <td>1</td>\n      <td>0</td>\n      <td>0</td>\n      <td>...</td>\n      <td>0</td>\n      <td>1</td>\n      <td>0</td>\n      <td>0</td>\n      <td>0</td>\n      <td>0</td>\n      <td>0</td>\n      <td>0</td>\n      <td>0</td>\n      <td>NaN</td>\n    </tr>\n  </tbody>\n</table>\n<p>7219 rows × 82 columns</p>\n</div>"
     },
     "execution_count": 35,
     "metadata": {},
     "output_type": "execute_result"
    }
   ],
   "source": [
    "# what type of data do we have.\n",
    "df_web_internet_use.select_dtypes([\"number\"])"
   ],
   "metadata": {
    "collapsed": false,
    "pycharm": {
     "name": "#%%\n"
    }
   }
  },
  {
   "cell_type": "code",
   "execution_count": 36,
   "outputs": [
    {
     "data": {
      "text/plain": "['Favorites/Bookmarks Usage Patterns_Annotate',\n 'Favorites/Bookmarks Usage Patterns_Change Title',\n 'Favorites/Bookmarks Usage Patterns_Create Folders',\n 'Favorites/Bookmarks Usage Patterns_Create New Entry',\n 'Favorites/Bookmarks Usage Patterns_Create Subfolders',\n 'Favorites/Bookmarks Usage Patterns_Delete Entry',\n 'Favorites/Bookmarks Usage Patterns_Dont Use',\n 'Favorites/Bookmarks Usage Patterns_Manually Re-arrange',\n 'Favorites/Bookmarks Usage Patterns_Other',\n 'How Users Find out About WWW Pages_Books',\n 'How Users Find out About WWW Pages_Directories',\n 'How Users Find out About WWW Pages_Friends',\n 'How Users Find out About WWW Pages_Other',\n 'How Users Find out About WWW Pages_Printed Media',\n 'How Users Find out About WWW Pages_Search Engines',\n 'How Users Find out About WWW Pages_Sigs',\n 'How Users Find out About WWW Pages_TV',\n 'How Users Find out About WWW Pages_Usenet',\n 'How Users Find out About WWW Pages_WWW Pages',\n 'Indispensable_3-D',\n 'Indispensable_Audio',\n 'Indispensable_Chat',\n 'Indispensable_Digital sig',\n \"Indispensable_Don't know\",\n 'Indispensable_Email',\n 'Indispensable_Internet Fax',\n 'Indispensable_Internet Phone',\n 'Indispensable_Java',\n 'Indispensable_Other',\n 'Indispensable_Push',\n 'Indispensable_Video',\n 'Indispensable_WWW',\n 'Navigation Services_411 ',\n 'Navigation Services_AOL NetFind',\n 'Navigation Services_Alta Vista',\n 'Navigation Services_Bigfoot',\n \"Navigation Services_Don't Know\",\n 'Navigation Services_Excite ',\n 'Navigation Services_GTE SuperPages',\n 'Navigation Services_HotBot',\n 'Navigation Services_InfoSeek',\n 'Navigation Services_Lycos',\n 'Navigation Services_Other',\n 'Navigation Services_Web Crawler',\n 'Navigation Services_WhoWhere',\n 'Navigation Services_Yahoo',\n 'Primary Uses of Browser_Communication',\n 'Primary Uses of Browser_Education',\n 'Primary Uses of Browser_Entertainment',\n 'Primary Uses of Browser_Other',\n 'Primary Uses of Browser_Personal info',\n 'Primary Uses of Browser_Shopping',\n 'Primary Uses of Browser_Time-wasting',\n 'Primary Uses of Browser_Work',\n 'Problems Using Favorites/Bookmarks_Changed Content',\n 'Problems Using Favorites/Bookmarks_Complicated',\n 'Problems Using Favorites/Bookmarks_Dont Use',\n 'Problems Using Favorites/Bookmarks_No Problem',\n 'Problems Using Favorites/Bookmarks_Organize',\n 'Problems Using Favorites/Bookmarks_Other',\n 'Problems Using Favorites/Bookmarks_Quick Storage',\n 'Problems Using Favorites/Bookmarks_See All',\n 'Problems Using the Web_Broken Links',\n 'Problems Using the Web_Cost',\n 'Problems Using the Web_Find Known Info',\n 'Problems Using the Web_Find new info',\n 'Problems Using the Web_Lost',\n 'Problems Using the Web_Organize',\n 'Problems Using the Web_Other',\n 'Problems Using the Web_Revisit',\n 'Problems Using the Web_Speed',\n 'Problems Using the Web_Vizualization',\n 'Reasons For Saving and Printing Documents_Archive Docs',\n 'Reasons For Saving and Printing Documents_Distribute to Others Offline',\n \"Reasons For Saving and Printing Documents_Don't\",\n 'Reasons For Saving and Printing Documents_Fear Doc Will Dissappear',\n 'Reasons For Saving and Printing Documents_Mimic Format',\n 'Reasons For Saving and Printing Documents_Other',\n 'Reasons For Saving and Printing Documents_Read Offline',\n 'Reasons For Saving and Printing Documents_Use Content',\n 'Reasons For Saving and Printing Documents_Use Offline',\n 'Unnamed: 105']"
     },
     "execution_count": 36,
     "metadata": {},
     "output_type": "execute_result"
    }
   ],
   "source": [
    "num_column_nms = df_web_internet_use.select_dtypes([\"number\"]).columns.values.tolist()\n",
    "num_column_nms"
   ],
   "metadata": {
    "collapsed": false,
    "pycharm": {
     "name": "#%%\n"
    }
   }
  },
  {
   "cell_type": "code",
   "execution_count": 37,
   "outputs": [
    {
     "data": {
      "text/plain": "       Favorites/Bookmarks Usage Patterns_Annotate  \\\ncount                                  7219.000000   \nmean                                      0.178002   \nstd                                       0.382541   \nmin                                       0.000000   \n25%                                       0.000000   \n50%                                       0.000000   \n75%                                       0.000000   \nmax                                       1.000000   \n\n       Favorites/Bookmarks Usage Patterns_Change Title  \\\ncount                                      7219.000000   \nmean                                          0.496745   \nstd                                           0.500024   \nmin                                           0.000000   \n25%                                           0.000000   \n50%                                           0.000000   \n75%                                           1.000000   \nmax                                           1.000000   \n\n       Favorites/Bookmarks Usage Patterns_Create Folders  \\\ncount                                        7219.000000   \nmean                                            0.703699   \nstd                                             0.456657   \nmin                                             0.000000   \n25%                                             0.000000   \n50%                                             1.000000   \n75%                                             1.000000   \nmax                                             1.000000   \n\n       Favorites/Bookmarks Usage Patterns_Create New Entry  \\\ncount                                        7219.000000     \nmean                                            0.858014     \nstd                                             0.349060     \nmin                                             0.000000     \n25%                                             1.000000     \n50%                                             1.000000     \n75%                                             1.000000     \nmax                                             1.000000     \n\n       Favorites/Bookmarks Usage Patterns_Create Subfolders  \\\ncount                                        7219.000000      \nmean                                            0.413215      \nstd                                             0.492445      \nmin                                             0.000000      \n25%                                             0.000000      \n50%                                             0.000000      \n75%                                             1.000000      \nmax                                             1.000000      \n\n       Favorites/Bookmarks Usage Patterns_Delete Entry  \\\ncount                                      7219.000000   \nmean                                          0.736113   \nstd                                           0.440769   \nmin                                           0.000000   \n25%                                           0.000000   \n50%                                           1.000000   \n75%                                           1.000000   \nmax                                           1.000000   \n\n       Favorites/Bookmarks Usage Patterns_Dont Use  \\\ncount                                  7219.000000   \nmean                                      0.042388   \nstd                                       0.201487   \nmin                                       0.000000   \n25%                                       0.000000   \n50%                                       0.000000   \n75%                                       0.000000   \nmax                                       1.000000   \n\n       Favorites/Bookmarks Usage Patterns_Manually Re-arrange  \\\ncount                                        7219.000000        \nmean                                            0.631943        \nstd                                             0.482310        \nmin                                             0.000000        \n25%                                             0.000000        \n50%                                             1.000000        \n75%                                             1.000000        \nmax                                             1.000000        \n\n       Favorites/Bookmarks Usage Patterns_Other  \\\ncount                               7219.000000   \nmean                                   0.076465   \nstd                                    0.265759   \nmin                                    0.000000   \n25%                                    0.000000   \n50%                                    0.000000   \n75%                                    0.000000   \nmax                                    1.000000   \n\n       How Users Find out About WWW Pages_Books  ...  \\\ncount                               7219.000000  ...   \nmean                                   0.277047  ...   \nstd                                    0.447571  ...   \nmin                                    0.000000  ...   \n25%                                    0.000000  ...   \n50%                                    0.000000  ...   \n75%                                    1.000000  ...   \nmax                                    1.000000  ...   \n\n       Reasons For Saving and Printing Documents_Archive Docs  \\\ncount                                        7219.000000        \nmean                                            0.345339        \nstd                                             0.475512        \nmin                                             0.000000        \n25%                                             0.000000        \n50%                                             0.000000        \n75%                                             1.000000        \nmax                                             1.000000        \n\n       Reasons For Saving and Printing Documents_Distribute to Others Offline  \\\ncount                                         7219.00000                        \nmean                                             0.40435                        \nstd                                              0.49080                        \nmin                                              0.00000                        \n25%                                              0.00000                        \n50%                                              0.00000                        \n75%                                              1.00000                        \nmax                                              1.00000                        \n\n       Reasons For Saving and Printing Documents_Don't  \\\ncount                                      7219.000000   \nmean                                          0.130905   \nstd                                           0.337319   \nmin                                           0.000000   \n25%                                           0.000000   \n50%                                           0.000000   \n75%                                           0.000000   \nmax                                           1.000000   \n\n       Reasons For Saving and Printing Documents_Fear Doc Will Dissappear  \\\ncount                                        7219.000000                    \nmean                                            0.265965                    \nstd                                             0.441876                    \nmin                                             0.000000                    \n25%                                             0.000000                    \n50%                                             0.000000                    \n75%                                             1.000000                    \nmax                                             1.000000                    \n\n       Reasons For Saving and Printing Documents_Mimic Format  \\\ncount                                        7219.000000        \nmean                                            0.108187        \nstd                                             0.310638        \nmin                                             0.000000        \n25%                                             0.000000        \n50%                                             0.000000        \n75%                                             0.000000        \nmax                                             1.000000        \n\n       Reasons For Saving and Printing Documents_Other  \\\ncount                                      7219.000000   \nmean                                          0.125502   \nstd                                           0.331310   \nmin                                           0.000000   \n25%                                           0.000000   \n50%                                           0.000000   \n75%                                           0.000000   \nmax                                           1.000000   \n\n       Reasons For Saving and Printing Documents_Read Offline  \\\ncount                                        7219.000000        \nmean                                            0.429699        \nstd                                             0.495067        \nmin                                             0.000000        \n25%                                             0.000000        \n50%                                             0.000000        \n75%                                             1.000000        \nmax                                             1.000000        \n\n       Reasons For Saving and Printing Documents_Use Content  \\\ncount                                        7219.000000       \nmean                                            0.248234       \nstd                                             0.432018       \nmin                                             0.000000       \n25%                                             0.000000       \n50%                                             0.000000       \n75%                                             0.000000       \nmax                                             1.000000       \n\n       Reasons For Saving and Printing Documents_Use Offline  Unnamed: 105  \ncount                                        7219.000000               0.0  \nmean                                            0.542180               NaN  \nstd                                             0.498252               NaN  \nmin                                             0.000000               NaN  \n25%                                             0.000000               NaN  \n50%                                             1.000000               NaN  \n75%                                             1.000000               NaN  \nmax                                             1.000000               NaN  \n\n[8 rows x 82 columns]",
      "text/html": "<div>\n<style scoped>\n    .dataframe tbody tr th:only-of-type {\n        vertical-align: middle;\n    }\n\n    .dataframe tbody tr th {\n        vertical-align: top;\n    }\n\n    .dataframe thead th {\n        text-align: right;\n    }\n</style>\n<table border=\"1\" class=\"dataframe\">\n  <thead>\n    <tr style=\"text-align: right;\">\n      <th></th>\n      <th>Favorites/Bookmarks Usage Patterns_Annotate</th>\n      <th>Favorites/Bookmarks Usage Patterns_Change Title</th>\n      <th>Favorites/Bookmarks Usage Patterns_Create Folders</th>\n      <th>Favorites/Bookmarks Usage Patterns_Create New Entry</th>\n      <th>Favorites/Bookmarks Usage Patterns_Create Subfolders</th>\n      <th>Favorites/Bookmarks Usage Patterns_Delete Entry</th>\n      <th>Favorites/Bookmarks Usage Patterns_Dont Use</th>\n      <th>Favorites/Bookmarks Usage Patterns_Manually Re-arrange</th>\n      <th>Favorites/Bookmarks Usage Patterns_Other</th>\n      <th>How Users Find out About WWW Pages_Books</th>\n      <th>...</th>\n      <th>Reasons For Saving and Printing Documents_Archive Docs</th>\n      <th>Reasons For Saving and Printing Documents_Distribute to Others Offline</th>\n      <th>Reasons For Saving and Printing Documents_Don't</th>\n      <th>Reasons For Saving and Printing Documents_Fear Doc Will Dissappear</th>\n      <th>Reasons For Saving and Printing Documents_Mimic Format</th>\n      <th>Reasons For Saving and Printing Documents_Other</th>\n      <th>Reasons For Saving and Printing Documents_Read Offline</th>\n      <th>Reasons For Saving and Printing Documents_Use Content</th>\n      <th>Reasons For Saving and Printing Documents_Use Offline</th>\n      <th>Unnamed: 105</th>\n    </tr>\n  </thead>\n  <tbody>\n    <tr>\n      <th>count</th>\n      <td>7219.000000</td>\n      <td>7219.000000</td>\n      <td>7219.000000</td>\n      <td>7219.000000</td>\n      <td>7219.000000</td>\n      <td>7219.000000</td>\n      <td>7219.000000</td>\n      <td>7219.000000</td>\n      <td>7219.000000</td>\n      <td>7219.000000</td>\n      <td>...</td>\n      <td>7219.000000</td>\n      <td>7219.00000</td>\n      <td>7219.000000</td>\n      <td>7219.000000</td>\n      <td>7219.000000</td>\n      <td>7219.000000</td>\n      <td>7219.000000</td>\n      <td>7219.000000</td>\n      <td>7219.000000</td>\n      <td>0.0</td>\n    </tr>\n    <tr>\n      <th>mean</th>\n      <td>0.178002</td>\n      <td>0.496745</td>\n      <td>0.703699</td>\n      <td>0.858014</td>\n      <td>0.413215</td>\n      <td>0.736113</td>\n      <td>0.042388</td>\n      <td>0.631943</td>\n      <td>0.076465</td>\n      <td>0.277047</td>\n      <td>...</td>\n      <td>0.345339</td>\n      <td>0.40435</td>\n      <td>0.130905</td>\n      <td>0.265965</td>\n      <td>0.108187</td>\n      <td>0.125502</td>\n      <td>0.429699</td>\n      <td>0.248234</td>\n      <td>0.542180</td>\n      <td>NaN</td>\n    </tr>\n    <tr>\n      <th>std</th>\n      <td>0.382541</td>\n      <td>0.500024</td>\n      <td>0.456657</td>\n      <td>0.349060</td>\n      <td>0.492445</td>\n      <td>0.440769</td>\n      <td>0.201487</td>\n      <td>0.482310</td>\n      <td>0.265759</td>\n      <td>0.447571</td>\n      <td>...</td>\n      <td>0.475512</td>\n      <td>0.49080</td>\n      <td>0.337319</td>\n      <td>0.441876</td>\n      <td>0.310638</td>\n      <td>0.331310</td>\n      <td>0.495067</td>\n      <td>0.432018</td>\n      <td>0.498252</td>\n      <td>NaN</td>\n    </tr>\n    <tr>\n      <th>min</th>\n      <td>0.000000</td>\n      <td>0.000000</td>\n      <td>0.000000</td>\n      <td>0.000000</td>\n      <td>0.000000</td>\n      <td>0.000000</td>\n      <td>0.000000</td>\n      <td>0.000000</td>\n      <td>0.000000</td>\n      <td>0.000000</td>\n      <td>...</td>\n      <td>0.000000</td>\n      <td>0.00000</td>\n      <td>0.000000</td>\n      <td>0.000000</td>\n      <td>0.000000</td>\n      <td>0.000000</td>\n      <td>0.000000</td>\n      <td>0.000000</td>\n      <td>0.000000</td>\n      <td>NaN</td>\n    </tr>\n    <tr>\n      <th>25%</th>\n      <td>0.000000</td>\n      <td>0.000000</td>\n      <td>0.000000</td>\n      <td>1.000000</td>\n      <td>0.000000</td>\n      <td>0.000000</td>\n      <td>0.000000</td>\n      <td>0.000000</td>\n      <td>0.000000</td>\n      <td>0.000000</td>\n      <td>...</td>\n      <td>0.000000</td>\n      <td>0.00000</td>\n      <td>0.000000</td>\n      <td>0.000000</td>\n      <td>0.000000</td>\n      <td>0.000000</td>\n      <td>0.000000</td>\n      <td>0.000000</td>\n      <td>0.000000</td>\n      <td>NaN</td>\n    </tr>\n    <tr>\n      <th>50%</th>\n      <td>0.000000</td>\n      <td>0.000000</td>\n      <td>1.000000</td>\n      <td>1.000000</td>\n      <td>0.000000</td>\n      <td>1.000000</td>\n      <td>0.000000</td>\n      <td>1.000000</td>\n      <td>0.000000</td>\n      <td>0.000000</td>\n      <td>...</td>\n      <td>0.000000</td>\n      <td>0.00000</td>\n      <td>0.000000</td>\n      <td>0.000000</td>\n      <td>0.000000</td>\n      <td>0.000000</td>\n      <td>0.000000</td>\n      <td>0.000000</td>\n      <td>1.000000</td>\n      <td>NaN</td>\n    </tr>\n    <tr>\n      <th>75%</th>\n      <td>0.000000</td>\n      <td>1.000000</td>\n      <td>1.000000</td>\n      <td>1.000000</td>\n      <td>1.000000</td>\n      <td>1.000000</td>\n      <td>0.000000</td>\n      <td>1.000000</td>\n      <td>0.000000</td>\n      <td>1.000000</td>\n      <td>...</td>\n      <td>1.000000</td>\n      <td>1.00000</td>\n      <td>0.000000</td>\n      <td>1.000000</td>\n      <td>0.000000</td>\n      <td>0.000000</td>\n      <td>1.000000</td>\n      <td>0.000000</td>\n      <td>1.000000</td>\n      <td>NaN</td>\n    </tr>\n    <tr>\n      <th>max</th>\n      <td>1.000000</td>\n      <td>1.000000</td>\n      <td>1.000000</td>\n      <td>1.000000</td>\n      <td>1.000000</td>\n      <td>1.000000</td>\n      <td>1.000000</td>\n      <td>1.000000</td>\n      <td>1.000000</td>\n      <td>1.000000</td>\n      <td>...</td>\n      <td>1.000000</td>\n      <td>1.00000</td>\n      <td>1.000000</td>\n      <td>1.000000</td>\n      <td>1.000000</td>\n      <td>1.000000</td>\n      <td>1.000000</td>\n      <td>1.000000</td>\n      <td>1.000000</td>\n      <td>NaN</td>\n    </tr>\n  </tbody>\n</table>\n<p>8 rows × 82 columns</p>\n</div>"
     },
     "execution_count": 37,
     "metadata": {},
     "output_type": "execute_result"
    }
   ],
   "source": [
    "df_web_internet_use.describe()"
   ],
   "metadata": {
    "collapsed": false,
    "pycharm": {
     "name": "#%%\n"
    }
   }
  },
  {
   "cell_type": "markdown",
   "source": [
    "### Observation\n",
    "Seems all the numerical column are cetgorical and has the value of 0 and 1 as representaion of 'False' and 'True'."
   ],
   "metadata": {
    "collapsed": false,
    "pycharm": {
     "name": "#%% md\n"
    }
   }
  },
  {
   "cell_type": "code",
   "execution_count": 44,
   "outputs": [
    {
     "name": "stdout",
     "output_type": "stream",
     "text": [
      "Drop column Unnamed: 105 that is totally null.\n",
      "Confirm the column is dropped.\n"
     ]
    },
    {
     "data": {
      "text/plain": "True"
     },
     "execution_count": 44,
     "metadata": {},
     "output_type": "execute_result"
    }
   ],
   "source": [
    "# check if all the values in the unnamed column are null.\n",
    "df_web_internet_use[\"Unnamed: 105\"].isna().all()\n",
    "# drop the Unnamed column as all the values are null\n",
    "print ('Drop column Unnamed: 105 that is totally null.')\n",
    "df_web_internet_use.drop(columns=[\"Unnamed: 105\"],inplace=True, errors='ignore')\n",
    "print ('Confirm the column is dropped.')\n",
    "~df_web_internet_use.columns.isin(['Unnamed: 105']).any()"
   ],
   "metadata": {
    "collapsed": false,
    "pycharm": {
     "name": "#%%\n"
    }
   }
  },
  {
   "cell_type": "markdown",
   "source": [
    "### Check for Missing data."
   ],
   "metadata": {
    "collapsed": false,
    "pycharm": {
     "name": "#%% md\n"
    }
   }
  },
  {
   "cell_type": "code",
   "execution_count": null,
   "outputs": [],
   "source": [
    "missing = pd.concat([df_web_internet_use.isnull().sum(), 100*df_web_internet_use.isnull().mean()], axis=1)\n",
    "missing.columns = ['count', 'pct']\n",
    "missing[missing['count'] > 0].any()\n",
    "missing"
   ],
   "metadata": {
    "collapsed": false,
    "pycharm": {
     "name": "#%%\n"
    }
   }
  },
  {
   "cell_type": "markdown",
   "source": [
    "Are there any columns with missing data"
   ],
   "metadata": {
    "collapsed": false,
    "pycharm": {
     "name": "#%% md\n"
    }
   }
  },
  {
   "cell_type": "code",
   "execution_count": 54,
   "outputs": [
    {
     "data": {
      "text/plain": "0"
     },
     "execution_count": 54,
     "metadata": {},
     "output_type": "execute_result"
    }
   ],
   "source": [
    "df_web_internet_use.isnull().any().sum()"
   ],
   "metadata": {
    "collapsed": false,
    "pycharm": {
     "name": "#%%\n"
    }
   }
  },
  {
   "cell_type": "markdown",
   "source": [
    "### Analyze Categorical Features\n",
    "So we have 82 numeric columns and 24 object data types."
   ],
   "metadata": {
    "collapsed": false
   }
  },
  {
   "cell_type": "markdown",
   "source": [
    "Analyze the numeric data types\n",
    "what are the unique values in these number columns."
   ],
   "metadata": {
    "collapsed": false,
    "pycharm": {
     "name": "#%% md\n"
    }
   },
   "outputs": [
    {
     "ename": "SyntaxError",
     "evalue": "invalid syntax (753737496.py, line 1)",
     "output_type": "error",
     "traceback": [
      "\u001B[0;36m  File \u001B[0;32m\"/var/folders/j9/lt4t16ks2x53m13gthmz57c40000gn/T/ipykernel_17883/753737496.py\"\u001B[0;36m, line \u001B[0;32m1\u001B[0m\n\u001B[0;31m    Analyze the numeric data types\u001B[0m\n\u001B[0m            ^\u001B[0m\n\u001B[0;31mSyntaxError\u001B[0m\u001B[0;31m:\u001B[0m invalid syntax\n"
     ]
    }
   ],
   "execution_count": 55
  },
  {
   "cell_type": "code",
   "source": [
    "for col in df_web_internet_use.select_dtypes(['number']).columns.values:\n",
    "    uniq = df_web_internet_use[col].unique()\n",
    "    uniq_val_count = df_web_internet_use[col].value_counts(normalize=True, sort=True)\n",
    "    print (col, uniq, uniq_val_count[0].round(2), uniq_val_count[1].round(2) )"
   ],
   "metadata": {
    "collapsed": false,
    "pycharm": {
     "name": "#%% \n"
    }
   },
   "execution_count": 77,
   "outputs": [
    {
     "name": "stdout",
     "output_type": "stream",
     "text": [
      "Favorites/Bookmarks Usage Patterns_Annotate [0 1] 0.82 0.18\n",
      "Favorites/Bookmarks Usage Patterns_Change Title [0 1] 0.5 0.5\n",
      "Favorites/Bookmarks Usage Patterns_Create Folders [0 1] 0.3 0.7\n",
      "Favorites/Bookmarks Usage Patterns_Create New Entry [1 0] 0.14 0.86\n",
      "Favorites/Bookmarks Usage Patterns_Create Subfolders [0 1] 0.59 0.41\n",
      "Favorites/Bookmarks Usage Patterns_Delete Entry [1 0] 0.26 0.74\n",
      "Favorites/Bookmarks Usage Patterns_Dont Use [0 1] 0.96 0.04\n",
      "Favorites/Bookmarks Usage Patterns_Manually Re-arrange [0 1] 0.37 0.63\n",
      "Favorites/Bookmarks Usage Patterns_Other [0 1] 0.92 0.08\n",
      "How Users Find out About WWW Pages_Books [0 1] 0.72 0.28\n",
      "How Users Find out About WWW Pages_Directories [1 0] 0.35 0.65\n",
      "How Users Find out About WWW Pages_Friends [0 1] 0.41 0.59\n",
      "How Users Find out About WWW Pages_Other [1 0] 0.76 0.24\n",
      "How Users Find out About WWW Pages_Printed Media [0 1] 0.38 0.62\n",
      "How Users Find out About WWW Pages_Search Engines [1 0] 0.18 0.82\n",
      "How Users Find out About WWW Pages_Sigs [1 0] 0.67 0.33\n",
      "How Users Find out About WWW Pages_TV [0 1] 0.63 0.37\n",
      "How Users Find out About WWW Pages_Usenet [0 1] 0.7 0.3\n",
      "How Users Find out About WWW Pages_WWW Pages [1 0] 0.12 0.88\n",
      "Indispensable_3-D [0 1] 0.96 0.04\n",
      "Indispensable_Audio [0 1] 0.83 0.17\n",
      "Indispensable_Chat [0 1] 0.78 0.22\n",
      "Indispensable_Digital sig [0 1] 0.95 0.05\n",
      "Indispensable_Don't know [0 1] 0.96 0.04\n",
      "Indispensable_Email [1 0] 0.16 0.84\n",
      "Indispensable_Internet Fax [0 1] 0.96 0.04\n",
      "Indispensable_Internet Phone [0 1] 0.95 0.05\n",
      "Indispensable_Java [0 1] 0.78 0.22\n",
      "Indispensable_Other [0 1] 0.89 0.11\n",
      "Indispensable_Push [0 1] 0.95 0.05\n",
      "Indispensable_Video [0 1] 0.94 0.06\n",
      "Indispensable_WWW [1 0] 0.18 0.82\n",
      "Navigation Services_411  [0 1] 0.63 0.37\n",
      "Navigation Services_AOL NetFind [1 0] 0.88 0.12\n",
      "Navigation Services_Alta Vista [0 1] 0.33 0.67\n",
      "Navigation Services_Bigfoot [0 1] 0.78 0.22\n",
      "Navigation Services_Don't Know [0 1] 0.98 0.02\n",
      "Navigation Services_Excite  [1 0] 0.34 0.66\n",
      "Navigation Services_GTE SuperPages [0 1] 0.91 0.09\n",
      "Navigation Services_HotBot [1 0] 0.66 0.34\n",
      "Navigation Services_InfoSeek [1 0] 0.4 0.6\n",
      "Navigation Services_Lycos [1 0] 0.41 0.59\n",
      "Navigation Services_Other [0 1] 0.82 0.18\n",
      "Navigation Services_Web Crawler [1 0] 0.54 0.46\n",
      "Navigation Services_WhoWhere [0 1] 0.77 0.23\n",
      "Navigation Services_Yahoo [1 0] 0.16 0.84\n",
      "Primary Uses of Browser_Communication [0 1] 0.67 0.33\n",
      "Primary Uses of Browser_Education [1 0] 0.4 0.6\n",
      "Primary Uses of Browser_Entertainment [1 0] 0.35 0.65\n",
      "Primary Uses of Browser_Other [0 1] 0.91 0.09\n",
      "Primary Uses of Browser_Personal info [1 0] 0.27 0.73\n",
      "Primary Uses of Browser_Shopping [1 0] 0.6 0.4\n",
      "Primary Uses of Browser_Time-wasting [1 0] 0.6 0.4\n",
      "Primary Uses of Browser_Work [0 1] 0.45 0.55\n",
      "Problems Using Favorites/Bookmarks_Changed Content [0 1] 0.79 0.21\n",
      "Problems Using Favorites/Bookmarks_Complicated [0 1] 0.97 0.03\n",
      "Problems Using Favorites/Bookmarks_Dont Use [0 1] 0.96 0.04\n",
      "Problems Using Favorites/Bookmarks_No Problem [0 1] 0.42 0.58\n",
      "Problems Using Favorites/Bookmarks_Organize [0 1] 0.85 0.15\n",
      "Problems Using Favorites/Bookmarks_Other [1 0] 0.93 0.07\n",
      "Problems Using Favorites/Bookmarks_Quick Storage [0 1] 0.85 0.15\n",
      "Problems Using Favorites/Bookmarks_See All [0 1] 0.89 0.11\n",
      "Problems Using the Web_Broken Links [0 1] 0.4 0.6\n",
      "Problems Using the Web_Cost [0 1] 0.94 0.06\n",
      "Problems Using the Web_Find Known Info [0 1] 0.68 0.32\n",
      "Problems Using the Web_Find new info [1 0] 0.5 0.5\n",
      "Problems Using the Web_Lost [0 1] 0.94 0.06\n",
      "Problems Using the Web_Organize [1 0] 0.75 0.25\n",
      "Problems Using the Web_Other [0 1] 0.9 0.1\n",
      "Problems Using the Web_Revisit [1 0] 0.82 0.18\n",
      "Problems Using the Web_Speed [1 0] 0.37 0.63\n",
      "Problems Using the Web_Vizualization [0 1] 0.91 0.09\n",
      "Reasons For Saving and Printing Documents_Archive Docs [1 0] 0.65 0.35\n",
      "Reasons For Saving and Printing Documents_Distribute to Others Offline [0 1] 0.6 0.4\n",
      "Reasons For Saving and Printing Documents_Don't [0 1] 0.87 0.13\n",
      "Reasons For Saving and Printing Documents_Fear Doc Will Dissappear [0 1] 0.73 0.27\n",
      "Reasons For Saving and Printing Documents_Mimic Format [0 1] 0.89 0.11\n",
      "Reasons For Saving and Printing Documents_Other [0 1] 0.87 0.13\n",
      "Reasons For Saving and Printing Documents_Read Offline [0 1] 0.57 0.43\n",
      "Reasons For Saving and Printing Documents_Use Content [0 1] 0.75 0.25\n",
      "Reasons For Saving and Printing Documents_Use Offline [1 0] 0.46 0.54\n"
     ]
    }
   ]
  },
  {
   "cell_type": "markdown",
   "source": [
    "Analyze the object data types.\n",
    "\n",
    "How does these columns look like."
   ],
   "metadata": {
    "collapsed": false,
    "pycharm": {
     "name": "#%% md\n"
    }
   }
  },
  {
   "cell_type": "code",
   "execution_count": null,
   "outputs": [],
   "source": [
    "df_web_internet_use.select_dtypes([\"object\"])"
   ],
   "metadata": {
    "collapsed": false,
    "pycharm": {
     "name": "#%%\n"
    }
   }
  },
  {
   "cell_type": "code",
   "execution_count": null,
   "outputs": [],
   "source": [
    "obj_column_nms = df_web_internet_use.select_dtypes([\"object\"]).columns.values.tolist()\n",
    "obj_column_nms"
   ],
   "metadata": {
    "collapsed": false,
    "pycharm": {
     "name": "#%%\n"
    }
   }
  },
  {
   "cell_type": "code",
   "execution_count": null,
   "outputs": [],
   "source": [
    "chat_grp_dict_key_ct = {}\n",
    "for k, v in df_web_internet_use.groupby('Chat groups').groups.items():\n",
    "    chat_grp_dict_key_ct[k] = len(v)\n",
    "\n",
    "print ('total distinct values for chat groups: ', len(chat_grp_dict_key_ct.keys()))\n",
    "print(sorted(chat_grp_dict_key_ct.items(), key=lambda k: k[1], reverse=True) )"
   ],
   "metadata": {
    "collapsed": false,
    "pycharm": {
     "name": "#%%\n"
    }
   }
  },
  {
   "cell_type": "code",
   "execution_count": null,
   "outputs": [],
   "source": [
    "# Check the same for all the columns with object data type.\n",
    "def column_distinct_val(df):\n",
    "    col_grp_distinct_val = {}\n",
    "    col_names = df.select_dtypes([\"object\"])\n",
    "    for col in col_names:\n",
    "        for k, v in df.groupby(col).groups.items():\n",
    "            col_grp_distinct_val[k] = len(v)\n",
    "        print (f'total distinct values for \"{col}\": ', len(col_grp_distinct_val.keys()))\n",
    "        print(sorted(col_grp_distinct_val.items(), key=lambda k: k[1], reverse=True) )\n",
    "\n",
    "column_distinct_val(df_web_internet_use)"
   ],
   "metadata": {
    "collapsed": false,
    "pycharm": {
     "name": "#%%\n"
    }
   }
  },
  {
   "cell_type": "code",
   "execution_count": null,
   "outputs": [],
   "source": [
    "df_web_internet_use.hist(figsize=(35,50) )\n",
    "plt.subplots_adjust(hspace=.5);"
   ],
   "metadata": {
    "collapsed": false,
    "pycharm": {
     "name": "#%%\n"
    }
   }
  },
  {
   "cell_type": "markdown",
   "source": [
    "Check for electronic news and shopping category"
   ],
   "metadata": {
    "collapsed": false,
    "pycharm": {
     "name": "#%% md\n"
    }
   },
   "outputs": [
    {
     "ename": "SyntaxError",
     "evalue": "invalid syntax (3575626185.py, line 1)",
     "output_type": "error",
     "traceback": [
      "\u001B[0;36m  File \u001B[0;32m\"/var/folders/j9/lt4t16ks2x53m13gthmz57c40000gn/T/ipykernel_1762/3575626185.py\"\u001B[0;36m, line \u001B[0;32m1\u001B[0m\n\u001B[0;31m    Check for electronic news and shopping category\u001B[0m\n\u001B[0m          ^\u001B[0m\n\u001B[0;31mSyntaxError\u001B[0m\u001B[0;31m:\u001B[0m invalid syntax\n"
     ]
    }
   ],
   "execution_count": 205
  },
  {
   "cell_type": "code",
   "execution_count": null,
   "outputs": [],
   "source": [
    "cols = []\n",
    "cols.extend(obj_column_nms[2:4])\n",
    "cols.extend(num_column_nms[:4])\n",
    "cols\n",
    "df_electronics = df_web_internet_use[cols]\n",
    "df_electronics_melt = df_electronics.melt(id_vars=obj_column_nms[2:4], var_name='Fav', value_name='Flag' )\n",
    "df_electronics_melt.head()"
   ],
   "metadata": {
    "collapsed": false,
    "pycharm": {
     "name": "#%%\n"
    }
   }
  },
  {
   "cell_type": "code",
   "execution_count": null,
   "outputs": [],
   "source": [
    "# list of interest.\n",
    "# obj_column_nms\n",
    "cols = []\n",
    "cols.extend(['Electronic News', 'Shopping', 'Hours Used', 'Maps'])\n",
    "cols.extend(num_column_nms[:])\n",
    "cols\n",
    "df_electronic_shopping= df_web_internet_use[cols]\n",
    "df_electronic_shopping_melt = df_electronic_shopping.melt(id_vars=['Electronic News', 'Shopping', 'Hours Used', 'Maps']\n",
    "                                                          , var_name='Saved_Info'\n",
    "                                                          , value_name='Flag')\n",
    "df_electronic_shopping_melt.head()"
   ],
   "metadata": {
    "collapsed": false,
    "pycharm": {
     "name": "#%%\n"
    }
   }
  }
 ],
 "metadata": {
  "kernelspec": {
   "name": "pycharm-b50abfb3",
   "language": "python",
   "display_name": "PyCharm (DS Career Track)"
  },
  "language_info": {
   "codemirror_mode": {
    "name": "ipython",
    "version": 2
   },
   "file_extension": ".py",
   "mimetype": "text/x-python",
   "name": "python",
   "nbconvert_exporter": "python",
   "pygments_lexer": "ipython2",
   "version": "2.7.6"
  }
 },
 "nbformat": 4,
 "nbformat_minor": 0
}