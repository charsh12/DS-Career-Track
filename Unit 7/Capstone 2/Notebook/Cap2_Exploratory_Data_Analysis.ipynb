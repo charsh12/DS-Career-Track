{
 "cells": [
  {
   "cell_type": "code",
   "execution_count": 2,
   "metadata": {
    "collapsed": true
   },
   "outputs": [],
   "source": [
    "import numpy as np\n",
    "import pandas as pd\n",
    "import matplotlib.pyplot as plt"
   ]
  },
  {
   "cell_type": "code",
   "execution_count": 4,
   "outputs": [
    {
     "data": {
      "text/plain": "        ID  Chat groups_A few times  Chat groups_Don't know  \\\n0  id95708                        1                       0   \n1  id97218                        1                       0   \n2  id91627                        0                       0   \n3  id89941                        0                       0   \n4  id96052                        0                       0   \n\n   Chat groups_Never  Chat groups_Once per day  Chat groups_Once per month  \\\n0                  0                         0                           0   \n1                  0                         0                           0   \n2                  0                         1                           0   \n3                  1                         0                           0   \n4                  0                         0                           0   \n\n   Chat groups_Once per week  Chat groups_Several  \\\n0                          0                    0   \n1                          0                    0   \n2                          0                    0   \n3                          0                    0   \n4                          0                    0   \n\n   Chat groups_Several times per day  Chat groups_Several times per month  \\\n0                                  0                                    0   \n1                                  0                                    0   \n2                                  0                                    0   \n3                                  0                                    0   \n4                                  0                                    0   \n\n   ...  Problems Using the Web_Vizualization  \\\n0  ...                                     0   \n1  ...                                     0   \n2  ...                                     0   \n3  ...                                     0   \n4  ...                                     0   \n\n   Reasons For Saving and Printing Documents_Archive Docs  \\\n0                                                  1        \n1                                                  0        \n2                                                  1        \n3                                                  0        \n4                                                  0        \n\n   Reasons For Saving and Printing Documents_Distribute to Others Offline  \\\n0                                                  0                        \n1                                                  1                        \n2                                                  0                        \n3                                                  1                        \n4                                                  0                        \n\n   Reasons For Saving and Printing Documents_Don't  \\\n0                                                0   \n1                                                0   \n2                                                0   \n3                                                0   \n4                                                1   \n\n   Reasons For Saving and Printing Documents_Fear Doc Will Dissappear  \\\n0                                                  0                    \n1                                                  1                    \n2                                                  0                    \n3                                                  0                    \n4                                                  0                    \n\n   Reasons For Saving and Printing Documents_Mimic Format  \\\n0                                                  0        \n1                                                  1        \n2                                                  0        \n3                                                  1        \n4                                                  0        \n\n   Reasons For Saving and Printing Documents_Other  \\\n0                                                0   \n1                                                0   \n2                                                0   \n3                                                0   \n4                                                0   \n\n   Reasons For Saving and Printing Documents_Read Offline  \\\n0                                                  0        \n1                                                  0        \n2                                                  0        \n3                                                  1        \n4                                                  0        \n\n   Reasons For Saving and Printing Documents_Use Content  \\\n0                                                  0       \n1                                                  0       \n2                                                  0       \n3                                                  1       \n4                                                  0       \n\n   Reasons For Saving and Printing Documents_Use Offline  \n0                                                  1      \n1                                                  0      \n2                                                  1      \n3                                                  1      \n4                                                  0      \n\n[5 rows x 268 columns]",
      "text/html": "<div>\n<style scoped>\n    .dataframe tbody tr th:only-of-type {\n        vertical-align: middle;\n    }\n\n    .dataframe tbody tr th {\n        vertical-align: top;\n    }\n\n    .dataframe thead th {\n        text-align: right;\n    }\n</style>\n<table border=\"1\" class=\"dataframe\">\n  <thead>\n    <tr style=\"text-align: right;\">\n      <th></th>\n      <th>ID</th>\n      <th>Chat groups_A few times</th>\n      <th>Chat groups_Don't know</th>\n      <th>Chat groups_Never</th>\n      <th>Chat groups_Once per day</th>\n      <th>Chat groups_Once per month</th>\n      <th>Chat groups_Once per week</th>\n      <th>Chat groups_Several</th>\n      <th>Chat groups_Several times per day</th>\n      <th>Chat groups_Several times per month</th>\n      <th>...</th>\n      <th>Problems Using the Web_Vizualization</th>\n      <th>Reasons For Saving and Printing Documents_Archive Docs</th>\n      <th>Reasons For Saving and Printing Documents_Distribute to Others Offline</th>\n      <th>Reasons For Saving and Printing Documents_Don't</th>\n      <th>Reasons For Saving and Printing Documents_Fear Doc Will Dissappear</th>\n      <th>Reasons For Saving and Printing Documents_Mimic Format</th>\n      <th>Reasons For Saving and Printing Documents_Other</th>\n      <th>Reasons For Saving and Printing Documents_Read Offline</th>\n      <th>Reasons For Saving and Printing Documents_Use Content</th>\n      <th>Reasons For Saving and Printing Documents_Use Offline</th>\n    </tr>\n  </thead>\n  <tbody>\n    <tr>\n      <th>0</th>\n      <td>id95708</td>\n      <td>1</td>\n      <td>0</td>\n      <td>0</td>\n      <td>0</td>\n      <td>0</td>\n      <td>0</td>\n      <td>0</td>\n      <td>0</td>\n      <td>0</td>\n      <td>...</td>\n      <td>0</td>\n      <td>1</td>\n      <td>0</td>\n      <td>0</td>\n      <td>0</td>\n      <td>0</td>\n      <td>0</td>\n      <td>0</td>\n      <td>0</td>\n      <td>1</td>\n    </tr>\n    <tr>\n      <th>1</th>\n      <td>id97218</td>\n      <td>1</td>\n      <td>0</td>\n      <td>0</td>\n      <td>0</td>\n      <td>0</td>\n      <td>0</td>\n      <td>0</td>\n      <td>0</td>\n      <td>0</td>\n      <td>...</td>\n      <td>0</td>\n      <td>0</td>\n      <td>1</td>\n      <td>0</td>\n      <td>1</td>\n      <td>1</td>\n      <td>0</td>\n      <td>0</td>\n      <td>0</td>\n      <td>0</td>\n    </tr>\n    <tr>\n      <th>2</th>\n      <td>id91627</td>\n      <td>0</td>\n      <td>0</td>\n      <td>0</td>\n      <td>1</td>\n      <td>0</td>\n      <td>0</td>\n      <td>0</td>\n      <td>0</td>\n      <td>0</td>\n      <td>...</td>\n      <td>0</td>\n      <td>1</td>\n      <td>0</td>\n      <td>0</td>\n      <td>0</td>\n      <td>0</td>\n      <td>0</td>\n      <td>0</td>\n      <td>0</td>\n      <td>1</td>\n    </tr>\n    <tr>\n      <th>3</th>\n      <td>id89941</td>\n      <td>0</td>\n      <td>0</td>\n      <td>1</td>\n      <td>0</td>\n      <td>0</td>\n      <td>0</td>\n      <td>0</td>\n      <td>0</td>\n      <td>0</td>\n      <td>...</td>\n      <td>0</td>\n      <td>0</td>\n      <td>1</td>\n      <td>0</td>\n      <td>0</td>\n      <td>1</td>\n      <td>0</td>\n      <td>1</td>\n      <td>1</td>\n      <td>1</td>\n    </tr>\n    <tr>\n      <th>4</th>\n      <td>id96052</td>\n      <td>0</td>\n      <td>0</td>\n      <td>0</td>\n      <td>0</td>\n      <td>0</td>\n      <td>0</td>\n      <td>0</td>\n      <td>0</td>\n      <td>0</td>\n      <td>...</td>\n      <td>0</td>\n      <td>0</td>\n      <td>0</td>\n      <td>1</td>\n      <td>0</td>\n      <td>0</td>\n      <td>0</td>\n      <td>0</td>\n      <td>0</td>\n      <td>0</td>\n    </tr>\n  </tbody>\n</table>\n<p>5 rows × 268 columns</p>\n</div>"
     },
     "execution_count": 4,
     "metadata": {},
     "output_type": "execute_result"
    }
   ],
   "source": [
    "datapath = \"../Data/final_categorical.csv\"\n",
    "df = pd.read_csv(datapath)\n",
    "df.head()"
   ],
   "metadata": {
    "collapsed": false,
    "pycharm": {
     "name": "#%%\n"
    }
   }
  },
  {
   "cell_type": "code",
   "execution_count": 12,
   "outputs": [
    {
     "ename": "KeyError",
     "evalue": "\"None of ['ID'] are in the columns\"",
     "output_type": "error",
     "traceback": [
      "\u001B[0;31m---------------------------------------------------------------------------\u001B[0m",
      "\u001B[0;31mKeyError\u001B[0m                                  Traceback (most recent call last)",
      "\u001B[0;32m/var/folders/j9/lt4t16ks2x53m13gthmz57c40000gn/T/ipykernel_52697/2208108396.py\u001B[0m in \u001B[0;36m<module>\u001B[0;34m\u001B[0m\n\u001B[0;32m----> 1\u001B[0;31m \u001B[0mdf_indexed\u001B[0m \u001B[0;34m=\u001B[0m \u001B[0mdf\u001B[0m\u001B[0;34m.\u001B[0m\u001B[0mset_index\u001B[0m\u001B[0;34m(\u001B[0m\u001B[0;34m\"ID\"\u001B[0m\u001B[0;34m)\u001B[0m\u001B[0;34m\u001B[0m\u001B[0;34m\u001B[0m\u001B[0m\n\u001B[0m\u001B[1;32m      2\u001B[0m \u001B[0mdf_indexed\u001B[0m\u001B[0;34m.\u001B[0m\u001B[0mhead\u001B[0m\u001B[0;34m(\u001B[0m\u001B[0;34m)\u001B[0m\u001B[0;34m\u001B[0m\u001B[0;34m\u001B[0m\u001B[0m\n\u001B[1;32m      3\u001B[0m \u001B[0;31m# col_names = df.columns\u001B[0m\u001B[0;34m\u001B[0m\u001B[0;34m\u001B[0m\u001B[0m\n\u001B[1;32m      4\u001B[0m \u001B[0;31m# ind_names = df.index\u001B[0m\u001B[0;34m\u001B[0m\u001B[0;34m\u001B[0m\u001B[0m\n\u001B[1;32m      5\u001B[0m \u001B[0;31m# col_names\u001B[0m\u001B[0;34m\u001B[0m\u001B[0;34m\u001B[0m\u001B[0m\n",
      "\u001B[0;32m~/.conda/envs/DS Career Track/lib/python3.9/site-packages/pandas/util/_decorators.py\u001B[0m in \u001B[0;36mwrapper\u001B[0;34m(*args, **kwargs)\u001B[0m\n\u001B[1;32m    309\u001B[0m                     \u001B[0mstacklevel\u001B[0m\u001B[0;34m=\u001B[0m\u001B[0mstacklevel\u001B[0m\u001B[0;34m,\u001B[0m\u001B[0;34m\u001B[0m\u001B[0;34m\u001B[0m\u001B[0m\n\u001B[1;32m    310\u001B[0m                 )\n\u001B[0;32m--> 311\u001B[0;31m             \u001B[0;32mreturn\u001B[0m \u001B[0mfunc\u001B[0m\u001B[0;34m(\u001B[0m\u001B[0;34m*\u001B[0m\u001B[0margs\u001B[0m\u001B[0;34m,\u001B[0m \u001B[0;34m**\u001B[0m\u001B[0mkwargs\u001B[0m\u001B[0;34m)\u001B[0m\u001B[0;34m\u001B[0m\u001B[0;34m\u001B[0m\u001B[0m\n\u001B[0m\u001B[1;32m    312\u001B[0m \u001B[0;34m\u001B[0m\u001B[0m\n\u001B[1;32m    313\u001B[0m         \u001B[0;32mreturn\u001B[0m \u001B[0mwrapper\u001B[0m\u001B[0;34m\u001B[0m\u001B[0;34m\u001B[0m\u001B[0m\n",
      "\u001B[0;32m~/.conda/envs/DS Career Track/lib/python3.9/site-packages/pandas/core/frame.py\u001B[0m in \u001B[0;36mset_index\u001B[0;34m(self, keys, drop, append, inplace, verify_integrity)\u001B[0m\n\u001B[1;32m   5449\u001B[0m \u001B[0;34m\u001B[0m\u001B[0m\n\u001B[1;32m   5450\u001B[0m         \u001B[0;32mif\u001B[0m \u001B[0mmissing\u001B[0m\u001B[0;34m:\u001B[0m\u001B[0;34m\u001B[0m\u001B[0;34m\u001B[0m\u001B[0m\n\u001B[0;32m-> 5451\u001B[0;31m             \u001B[0;32mraise\u001B[0m \u001B[0mKeyError\u001B[0m\u001B[0;34m(\u001B[0m\u001B[0;34mf\"None of {missing} are in the columns\"\u001B[0m\u001B[0;34m)\u001B[0m\u001B[0;34m\u001B[0m\u001B[0;34m\u001B[0m\u001B[0m\n\u001B[0m\u001B[1;32m   5452\u001B[0m \u001B[0;34m\u001B[0m\u001B[0m\n\u001B[1;32m   5453\u001B[0m         \u001B[0;32mif\u001B[0m \u001B[0minplace\u001B[0m\u001B[0;34m:\u001B[0m\u001B[0;34m\u001B[0m\u001B[0;34m\u001B[0m\u001B[0m\n",
      "\u001B[0;31mKeyError\u001B[0m: \"None of ['ID'] are in the columns\""
     ]
    }
   ],
   "source": [
    "df_indexed = df.set_index(\"ID\")\n",
    "df_indexed.head()\n",
    "# col_names = df.columns\n",
    "# ind_names = df.index\n",
    "# col_names\n",
    "# ind_names"
   ],
   "metadata": {
    "collapsed": false,
    "pycharm": {
     "name": "#%%\n"
    }
   }
  }
 ],
 "metadata": {
  "kernelspec": {
   "name": "pycharm-b50abfb3",
   "language": "python",
   "display_name": "PyCharm (DS Career Track)"
  },
  "language_info": {
   "codemirror_mode": {
    "name": "ipython",
    "version": 2
   },
   "file_extension": ".py",
   "mimetype": "text/x-python",
   "name": "python",
   "nbconvert_exporter": "python",
   "pygments_lexer": "ipython2",
   "version": "2.7.6"
  }
 },
 "nbformat": 4,
 "nbformat_minor": 0
}