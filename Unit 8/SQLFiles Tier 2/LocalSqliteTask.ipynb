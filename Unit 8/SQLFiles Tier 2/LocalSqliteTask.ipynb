{
 "cells": [
  {
   "cell_type": "code",
   "execution_count": 81,
   "metadata": {
    "collapsed": true
   },
   "outputs": [],
   "source": [
    "import pandas as pd\n",
    "import sqlite3 as slite\n",
    "from sqlite3 import Error"
   ]
  },
  {
   "cell_type": "code",
   "execution_count": 82,
   "outputs": [],
   "source": [
    "def query10(conn):\n",
    "    '''\n",
    "        Q10: Produce a list of facilities with a total revenue less than 1000.\n",
    "        The output of facility name and total revenue, sorted by revenue. Remember\n",
    "        that there's a different cost for guests and members!\n",
    "    '''\n",
    "\n",
    "    print ('''\n",
    "\n",
    "        Q10: Produce a list of facilities with a total revenue less than 1000.\n",
    "        The output of facility name and total revenue, sorted by revenue. Remember\n",
    "        that there's a different cost for guests and members!\n",
    "\n",
    "        ''')\n",
    "\n",
    "    cur = conn.cursor()\n",
    "    cur.execute('''SELECT\n",
    "                              f.name as facilityname\n",
    "                             , sum(case when b.memid = 0 then guestcost * slots\n",
    "                                 else membercost * slots end ) total_cost\n",
    "                      FROM  bookings b\n",
    "                     INNER JOIN facilities f\n",
    "                        ON b.facid = f.facid\n",
    "                    group by f.name\n",
    "                    having total_cost < 1000\n",
    "                    order by total_cost desc'''\n",
    "                )\n",
    "    df = pd.DataFrame(cur.fetchall())\n",
    "    col_nms = [nm[0] for nm in cur.description]\n",
    "    df.columns = col_nms\n",
    "    print (df)\n"
   ],
   "metadata": {
    "collapsed": false,
    "pycharm": {
     "name": "#%%\n"
    }
   }
  },
  {
   "cell_type": "code",
   "execution_count": 83,
   "outputs": [],
   "source": [
    "def query11(conn):\n",
    "    '''\n",
    "        Q11: Produce a report of members and who\n",
    "        recommended them in alphabetic surname,firstname order\n",
    "    '''\n",
    "    print ('''\n",
    "\n",
    "        Q11: Produce a report of members and who\n",
    "        recommended them in alphabetic surname,firstname order.\n",
    "\n",
    "        ''')\n",
    "    cur = conn.cursor()\n",
    "    cur.execute('''select\n",
    "                        m.surname||','||m.firstname as mem_nm\n",
    "                      , r.surname||','||r.firstname as recomemenders_nm\n",
    "                  from members m\n",
    "                  left join members r\n",
    "                    on m.recommendedby  = r.memid\n",
    "                order by mem_nm , recomemenders_nm;'''\n",
    "                )\n",
    "    df = pd.DataFrame(cur.fetchall())\n",
    "    col_nms = [nm[0] for nm in cur.description]\n",
    "    df.columns = col_nms\n",
    "    print (df)"
   ],
   "metadata": {
    "collapsed": false,
    "pycharm": {
     "name": "#%%\n"
    }
   }
  },
  {
   "cell_type": "code",
   "execution_count": 84,
   "outputs": [],
   "source": [
    "def query12(conn):\n",
    "    '''\n",
    "        Q12: Find the facilities with their usage by member, but not guests\n",
    "    '''\n",
    "    print ('''\n",
    "\n",
    "        Q12: Find the facilities with their usage by member, but not guests\n",
    "\n",
    "        ''')\n",
    "    cur = conn.cursor()\n",
    "    cur.execute('''select  f.name\n",
    "                         , count(distinct m.memid) member_count\n",
    "                     from members m\n",
    "                     join bookings b\n",
    "                      on b.memid = m.memid\n",
    "                     join facilities f\n",
    "                       on f.facid = b.facid\n",
    "                     where m.memid != 0\n",
    "                     group by f.name'''\n",
    "                )\n",
    "    df = pd.DataFrame(cur.fetchall())\n",
    "    col_nms = [nm[0] for nm in cur.description]\n",
    "    df.columns = col_nms\n",
    "    print (df)"
   ],
   "metadata": {
    "collapsed": false,
    "pycharm": {
     "name": "#%%\n"
    }
   }
  },
  {
   "cell_type": "code",
   "execution_count": 85,
   "outputs": [],
   "source": [
    "def query13(conn):\n",
    "    '''\n",
    "        Q13: Find the facilities usage by month, but not guests\n",
    "    '''\n",
    "    print ('''\n",
    "\n",
    "           Q13: Find the facilities usage by month, but not guests\n",
    "\n",
    "           ''')\n",
    "    cur = conn.cursor()\n",
    "    cur.execute('''select f.name\n",
    "                        , strftime('%m', starttime) month\n",
    "                        , count(1)\n",
    "                     from members m\n",
    "                     join bookings b\n",
    "                      on b.memid = m.memid\n",
    "                     join facilities f\n",
    "                       on f.facid = b.facid\n",
    "                     where m.memid != 0\n",
    "                     group by f.name, month'''\n",
    "                )\n",
    "    df = pd.DataFrame(cur.fetchall())\n",
    "    col_nms = [nm[0] for nm in cur.description]\n",
    "    df.columns = col_nms\n",
    "    print (df)"
   ],
   "metadata": {
    "collapsed": false,
    "pycharm": {
     "name": "#%%\n"
    }
   }
  },
  {
   "cell_type": "code",
   "execution_count": 86,
   "outputs": [
    {
     "name": "stdout",
     "output_type": "stream",
     "text": [
      "\n",
      "\n",
      "        Q10: Produce a list of facilities with a total revenue less than 1000.\n",
      "        The output of facility name and total revenue, sorted by revenue. Remember\n",
      "        that there's a different cost for guests and members!\n",
      "\n",
      "        \n",
      "    facilityname  total_cost\n",
      "0     Pool Table         270\n",
      "1  Snooker Table         240\n",
      "2   Table Tennis         180\n",
      "\n",
      "\n",
      "        Q11: Produce a report of members and who\n",
      "        recommended them in alphabetic surname,firstname order.\n",
      "\n",
      "        \n",
      "                     mem_nm   recomemenders_nm\n",
      "0            Bader,Florence    Stibbons,Ponder\n",
      "1                Baker,Anne    Stibbons,Ponder\n",
      "2             Baker,Timothy     Farrell,Jemima\n",
      "3                Boothe,Tim         Rownam,Tim\n",
      "4            Butters,Gerald       Smith,Darren\n",
      "5               Coplin,Joan      Baker,Timothy\n",
      "6             Crumpet,Erica        Smith,Tracy\n",
      "7                Dare,Nancy    Joplette,Janice\n",
      "8             Farrell,David               None\n",
      "9            Farrell,Jemima               None\n",
      "10              GUEST,GUEST               None\n",
      "11          Genting,Matthew     Butters,Gerald\n",
      "12                Hunt,John  Purview,Millicent\n",
      "13              Jones,David    Joplette,Janice\n",
      "14            Jones,Douglas        Jones,David\n",
      "15          Joplette,Janice       Smith,Darren\n",
      "16           Mackenzie,Anna       Smith,Darren\n",
      "17             Owen,Charles       Smith,Darren\n",
      "18             Pinker,David     Farrell,Jemima\n",
      "19        Purview,Millicent        Smith,Tracy\n",
      "20               Rownam,Tim               None\n",
      "21         Rumney,Henrietta    Genting,Matthew\n",
      "22         Sarwin,Ramnaresh     Bader,Florence\n",
      "23             Smith,Darren               None\n",
      "24             Smith,Darren               None\n",
      "25               Smith,Jack       Smith,Darren\n",
      "26              Smith,Tracy               None\n",
      "27          Stibbons,Ponder       Tracy,Burton\n",
      "28             Tracy,Burton               None\n",
      "29      Tupperware,Hyacinth               None\n",
      "30  Worthington-Smyth,Henry        Smith,Tracy\n",
      "\n",
      "\n",
      "        Q12: Find the facilities with their usage by member, but not guests\n",
      "\n",
      "        \n",
      "              name  member_count\n",
      "0  Badminton Court            24\n",
      "1   Massage Room 1            24\n",
      "2   Massage Room 2            12\n",
      "3       Pool Table            27\n",
      "4    Snooker Table            22\n",
      "5     Squash Court            24\n",
      "6     Table Tennis            25\n",
      "7   Tennis Court 1            23\n",
      "8   Tennis Court 2            21\n",
      "\n",
      "\n",
      "           Q13: Find the facilities usage by month, but not guests\n",
      "\n",
      "           \n",
      "               name month  count(1)\n",
      "0   Badminton Court    07        51\n",
      "1   Badminton Court    08       132\n",
      "2   Badminton Court    09       161\n",
      "3    Massage Room 1    07        77\n",
      "4    Massage Room 1    08       153\n",
      "5    Massage Room 1    09       191\n",
      "6    Massage Room 2    07         4\n",
      "7    Massage Room 2    08         9\n",
      "8    Massage Room 2    09        14\n",
      "9        Pool Table    07       103\n",
      "10       Pool Table    08       272\n",
      "11       Pool Table    09       408\n",
      "12    Snooker Table    07        68\n",
      "13    Snooker Table    08       154\n",
      "14    Snooker Table    09       199\n",
      "15     Squash Court    07        23\n",
      "16     Squash Court    08        85\n",
      "17     Squash Court    09        87\n",
      "18     Table Tennis    07        48\n",
      "19     Table Tennis    08       143\n",
      "20     Table Tennis    09       194\n",
      "21   Tennis Court 1    07        65\n",
      "22   Tennis Court 1    08       111\n",
      "23   Tennis Court 1    09       132\n",
      "24   Tennis Court 2    07        41\n",
      "25   Tennis Court 2    08       109\n",
      "26   Tennis Court 2    09       126\n"
     ]
    }
   ],
   "source": [
    "def main():\n",
    "    dbfile_nm = \"sqlite_db_pythonsqlite.db\"\n",
    "    conn = slite.connect(dbfile_nm)\n",
    "    with conn:\n",
    "        query10(conn)\n",
    "        query11(conn)\n",
    "        query12(conn)\n",
    "        query13(conn)\n",
    "if __name__=='__main__':\n",
    "    main()\n"
   ],
   "metadata": {
    "collapsed": false,
    "pycharm": {
     "name": "#%%\n"
    }
   }
  }
 ],
 "metadata": {
  "kernelspec": {
   "name": "pycharm-b50abfb3",
   "language": "python",
   "display_name": "PyCharm (DS Career Track)"
  },
  "language_info": {
   "codemirror_mode": {
    "name": "ipython",
    "version": 2
   },
   "file_extension": ".py",
   "mimetype": "text/x-python",
   "name": "python",
   "nbconvert_exporter": "python",
   "pygments_lexer": "ipython2",
   "version": "2.7.6"
  }
 },
 "nbformat": 4,
 "nbformat_minor": 0
}