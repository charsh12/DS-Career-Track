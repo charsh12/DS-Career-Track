{
 "cells": [
  {
   "cell_type": "code",
   "execution_count": 59,
   "metadata": {
    "collapsed": true
   },
   "outputs": [],
   "source": [
    "import pandas as pd\n",
    "import numpy as np\n",
    "import matplotlib.pyplot as plt\n",
    "import shapefile as shp\n",
    "from  shapely.geometry import Point, Polygon\n",
    "import geopandas as gpd\n",
    "import metpy\n",
    "import seaborn as sns"
   ]
  },
  {
   "cell_type": "code",
   "execution_count": 60,
   "outputs": [],
   "source": [
    "train_weather = pd.read_csv(\"../output/train_weather.csv\", parse_dates=[\"Date\"])\n"
   ],
   "metadata": {
    "collapsed": false,
    "pycharm": {
     "name": "#%%\n"
    }
   }
  },
  {
   "cell_type": "code",
   "execution_count": 61,
   "outputs": [
    {
     "name": "stdout",
     "output_type": "stream",
     "text": [
      "<class 'pandas.core.frame.DataFrame'>\n",
      "RangeIndex: 10506 entries, 0 to 10505\n",
      "Data columns (total 45 columns):\n",
      " #   Column                  Non-Null Count  Dtype         \n",
      "---  ------                  --------------  -----         \n",
      " 0   Unnamed: 0              10506 non-null  int64         \n",
      " 1   Date                    10506 non-null  datetime64[ns]\n",
      " 2   Address                 10506 non-null  object        \n",
      " 3   Species                 10506 non-null  object        \n",
      " 4   Block                   10506 non-null  int64         \n",
      " 5   Street                  10506 non-null  object        \n",
      " 6   Trap                    10506 non-null  object        \n",
      " 7   AddressNumberAndStreet  10506 non-null  object        \n",
      " 8   Latitude_x              10506 non-null  float64       \n",
      " 9   Longitude_x             10506 non-null  float64       \n",
      " 10  AddressAccuracy         10506 non-null  int64         \n",
      " 11  NumMosquitos            10506 non-null  int64         \n",
      " 12  WnvPresent              10506 non-null  int64         \n",
      " 13  year-mm                 10506 non-null  object        \n",
      " 14  year                    10506 non-null  int64         \n",
      " 15  month                   10506 non-null  int64         \n",
      " 16  zip_code                10506 non-null  int64         \n",
      " 17  geometry                10506 non-null  object        \n",
      " 18  Stn1-Lat                10506 non-null  float64       \n",
      " 19  Stn2-Lat                10506 non-null  float64       \n",
      " 20  Stn1-Long               10506 non-null  float64       \n",
      " 21  Stn2-Long               10506 non-null  float64       \n",
      " 22  distance_frm_stn1       10506 non-null  float64       \n",
      " 23  distance_frm_stn2       10506 non-null  float64       \n",
      " 24  closest_station         10506 non-null  int64         \n",
      " 25  Station                 10506 non-null  int64         \n",
      " 26  Tmax                    10506 non-null  int64         \n",
      " 27  Tmin                    10506 non-null  int64         \n",
      " 28  Tavg                    10506 non-null  int64         \n",
      " 29  Depart                  10506 non-null  int64         \n",
      " 30  DewPoint                10506 non-null  int64         \n",
      " 31  WetBulb                 10506 non-null  int64         \n",
      " 32  Heat                    10506 non-null  int64         \n",
      " 33  Cool                    10506 non-null  int64         \n",
      " 34  Sunrise                 10506 non-null  int64         \n",
      " 35  Sunset                  10506 non-null  int64         \n",
      " 36  CodeSum                 10506 non-null  object        \n",
      " 37  Depth                   10506 non-null  int64         \n",
      " 38  SnowFall                10506 non-null  float64       \n",
      " 39  PrecipTotal             10506 non-null  float64       \n",
      " 40  StnPressure             10506 non-null  float64       \n",
      " 41  SeaLevel                10506 non-null  float64       \n",
      " 42  ResultSpeed             10506 non-null  float64       \n",
      " 43  ResultDir               10506 non-null  int64         \n",
      " 44  AvgSpeed                10506 non-null  float64       \n",
      "dtypes: datetime64[ns](1), float64(14), int64(22), object(8)\n",
      "memory usage: 3.6+ MB\n"
     ]
    }
   ],
   "source": [
    "train_weather.info()"
   ],
   "metadata": {
    "collapsed": false,
    "pycharm": {
     "name": "#%%\n"
    }
   }
  },
  {
   "cell_type": "code",
   "execution_count": 62,
   "outputs": [],
   "source": [
    "train_weather.drop(columns=[\"Unnamed: 0\"], inplace=True)"
   ],
   "metadata": {
    "collapsed": false,
    "pycharm": {
     "name": "#%%\n"
    }
   }
  },
  {
   "cell_type": "code",
   "execution_count": 63,
   "outputs": [
    {
     "data": {
      "text/plain": "                     count          mean           std           min  \\\nBlock              10506.0     35.687797  2.433947e+01     10.000000   \nLatitude_x         10506.0     41.841139  1.127415e-01     41.644612   \nLongitude_x        10506.0    -87.699908  9.651417e-02    -87.930995   \nAddressAccuracy    10506.0      7.819532  1.452921e+00      3.000000   \nNumMosquitos       10506.0     12.853512  1.613382e+01      1.000000   \nWnvPresent         10506.0      0.052446  2.229357e-01      0.000000   \nyear               10506.0   2009.576242  2.354645e+00   2007.000000   \nmonth              10506.0      7.692557  1.067675e+00      5.000000   \nzip_code           10506.0  60625.462212  8.632335e+01  60018.000000   \nStn1-Lat           10506.0     41.995000  3.787373e-12     41.995000   \nStn2-Lat           10506.0     41.786000  5.592237e-12     41.786000   \nStn1-Long          10506.0    -87.933000  1.267669e-11    -87.933000   \nStn2-Long          10506.0    -87.752000  1.469472e-11    -87.752000   \ndistance_frm_stn1  10506.0     16.675728  8.029341e+00      2.570000   \ndistance_frm_stn2  10506.0      9.557179  3.973225e+00      0.530000   \nclosest_station    10506.0      1.686084  4.641047e-01      1.000000   \nStation            10506.0      1.686084  4.641047e-01      1.000000   \nTmax               10506.0     81.928707  8.285836e+00     57.000000   \nTmin               10506.0     63.991053  7.585434e+00     41.000000   \nTavg               10506.0     73.187512  7.506371e+00     50.000000   \nDepart             10506.0      2.740244  6.486468e+00    -12.000000   \nDewPoint           10506.0     59.653912  7.838916e+00     38.000000   \nWetBulb            10506.0     64.893965  6.724637e+00     46.000000   \nHeat               10506.0      0.867314  2.680958e+00      0.000000   \nCool               10506.0      9.054826  5.783582e+00      0.000000   \nSunrise            10506.0    468.457263  4.551295e+01    416.000000   \nSunset             10506.0   1870.854559  6.317705e+01   1720.000000   \nDepth              10506.0      0.000000  0.000000e+00      0.000000   \nSnowFall           10506.0      0.000000  0.000000e+00      0.000000   \nPrecipTotal        10506.0      0.164117  3.614010e-01      0.000000   \nStnPressure        10506.0     29.291570  1.175195e-01     28.890000   \nSeaLevel           10506.0     29.958250  1.171619e-01     29.590000   \nResultSpeed        10506.0      5.918142  2.902601e+00      0.100000   \nResultDir          10506.0     17.688369  9.136063e+00      1.000000   \nAvgSpeed           10506.0      7.455930  2.521806e+00      2.100000   \n\n                            25%           50%           75%           max  \nBlock                 12.000000     33.000000     52.000000     98.000000  \nLatitude_x            41.732984     41.846283     41.954690     42.017430  \nLongitude_x          -87.760070    -87.694991    -87.627796    -87.531635  \nAddressAccuracy        8.000000      8.000000      9.000000      9.000000  \nNumMosquitos           2.000000      5.000000     17.000000     50.000000  \nWnvPresent             0.000000      0.000000      0.000000      1.000000  \nyear                2007.000000   2009.000000   2011.000000   2013.000000  \nmonth                  7.000000      8.000000      8.000000     10.000000  \nzip_code           60617.000000  60633.000000  60646.000000  60827.000000  \nStn1-Lat              41.995000     41.995000     41.995000     41.995000  \nStn2-Lat              41.786000     41.786000     41.786000     41.786000  \nStn1-Long            -87.933000    -87.933000    -87.933000    -87.933000  \nStn2-Long            -87.752000    -87.752000    -87.752000    -87.752000  \ndistance_frm_stn1     10.550000     16.300000     23.890000     30.850000  \ndistance_frm_stn2      7.170000      9.590000     12.420000     16.310000  \nclosest_station        1.000000      2.000000      2.000000      2.000000  \nStation                1.000000      2.000000      2.000000      2.000000  \nTmax                  78.000000     83.000000     88.000000     97.000000  \nTmin                  60.000000     66.000000     70.000000     79.000000  \nTavg                  70.000000     75.000000     79.000000     87.000000  \nDepart                -2.000000      4.000000      8.000000     18.000000  \nDewPoint              54.000000     60.000000     66.000000     73.000000  \nWetBulb               61.000000     66.000000     70.000000     76.000000  \nHeat                   0.000000      0.000000      0.000000     15.000000  \nCool                   5.000000     10.000000     14.000000     22.000000  \nSunrise              429.000000    449.000000    514.000000    557.000000  \nSunset              1832.000000   1907.000000   1924.000000   1931.000000  \nDepth                  0.000000      0.000000      0.000000      0.000000  \nSnowFall               0.000000      0.000000      0.000000      0.000000  \nPrecipTotal            0.000000      0.000000      0.140000      3.970000  \nStnPressure           29.210000     29.290000     29.380000     29.650000  \nSeaLevel              29.880000     29.960000     30.050000     30.330000  \nResultSpeed            3.900000      5.500000      7.800000     15.400000  \nResultDir              9.000000     19.000000     24.000000     36.000000  \nAvgSpeed               5.800000      7.100000      9.200000     16.300000  ",
      "text/html": "<div>\n<style scoped>\n    .dataframe tbody tr th:only-of-type {\n        vertical-align: middle;\n    }\n\n    .dataframe tbody tr th {\n        vertical-align: top;\n    }\n\n    .dataframe thead th {\n        text-align: right;\n    }\n</style>\n<table border=\"1\" class=\"dataframe\">\n  <thead>\n    <tr style=\"text-align: right;\">\n      <th></th>\n      <th>count</th>\n      <th>mean</th>\n      <th>std</th>\n      <th>min</th>\n      <th>25%</th>\n      <th>50%</th>\n      <th>75%</th>\n      <th>max</th>\n    </tr>\n  </thead>\n  <tbody>\n    <tr>\n      <th>Block</th>\n      <td>10506.0</td>\n      <td>35.687797</td>\n      <td>2.433947e+01</td>\n      <td>10.000000</td>\n      <td>12.000000</td>\n      <td>33.000000</td>\n      <td>52.000000</td>\n      <td>98.000000</td>\n    </tr>\n    <tr>\n      <th>Latitude_x</th>\n      <td>10506.0</td>\n      <td>41.841139</td>\n      <td>1.127415e-01</td>\n      <td>41.644612</td>\n      <td>41.732984</td>\n      <td>41.846283</td>\n      <td>41.954690</td>\n      <td>42.017430</td>\n    </tr>\n    <tr>\n      <th>Longitude_x</th>\n      <td>10506.0</td>\n      <td>-87.699908</td>\n      <td>9.651417e-02</td>\n      <td>-87.930995</td>\n      <td>-87.760070</td>\n      <td>-87.694991</td>\n      <td>-87.627796</td>\n      <td>-87.531635</td>\n    </tr>\n    <tr>\n      <th>AddressAccuracy</th>\n      <td>10506.0</td>\n      <td>7.819532</td>\n      <td>1.452921e+00</td>\n      <td>3.000000</td>\n      <td>8.000000</td>\n      <td>8.000000</td>\n      <td>9.000000</td>\n      <td>9.000000</td>\n    </tr>\n    <tr>\n      <th>NumMosquitos</th>\n      <td>10506.0</td>\n      <td>12.853512</td>\n      <td>1.613382e+01</td>\n      <td>1.000000</td>\n      <td>2.000000</td>\n      <td>5.000000</td>\n      <td>17.000000</td>\n      <td>50.000000</td>\n    </tr>\n    <tr>\n      <th>WnvPresent</th>\n      <td>10506.0</td>\n      <td>0.052446</td>\n      <td>2.229357e-01</td>\n      <td>0.000000</td>\n      <td>0.000000</td>\n      <td>0.000000</td>\n      <td>0.000000</td>\n      <td>1.000000</td>\n    </tr>\n    <tr>\n      <th>year</th>\n      <td>10506.0</td>\n      <td>2009.576242</td>\n      <td>2.354645e+00</td>\n      <td>2007.000000</td>\n      <td>2007.000000</td>\n      <td>2009.000000</td>\n      <td>2011.000000</td>\n      <td>2013.000000</td>\n    </tr>\n    <tr>\n      <th>month</th>\n      <td>10506.0</td>\n      <td>7.692557</td>\n      <td>1.067675e+00</td>\n      <td>5.000000</td>\n      <td>7.000000</td>\n      <td>8.000000</td>\n      <td>8.000000</td>\n      <td>10.000000</td>\n    </tr>\n    <tr>\n      <th>zip_code</th>\n      <td>10506.0</td>\n      <td>60625.462212</td>\n      <td>8.632335e+01</td>\n      <td>60018.000000</td>\n      <td>60617.000000</td>\n      <td>60633.000000</td>\n      <td>60646.000000</td>\n      <td>60827.000000</td>\n    </tr>\n    <tr>\n      <th>Stn1-Lat</th>\n      <td>10506.0</td>\n      <td>41.995000</td>\n      <td>3.787373e-12</td>\n      <td>41.995000</td>\n      <td>41.995000</td>\n      <td>41.995000</td>\n      <td>41.995000</td>\n      <td>41.995000</td>\n    </tr>\n    <tr>\n      <th>Stn2-Lat</th>\n      <td>10506.0</td>\n      <td>41.786000</td>\n      <td>5.592237e-12</td>\n      <td>41.786000</td>\n      <td>41.786000</td>\n      <td>41.786000</td>\n      <td>41.786000</td>\n      <td>41.786000</td>\n    </tr>\n    <tr>\n      <th>Stn1-Long</th>\n      <td>10506.0</td>\n      <td>-87.933000</td>\n      <td>1.267669e-11</td>\n      <td>-87.933000</td>\n      <td>-87.933000</td>\n      <td>-87.933000</td>\n      <td>-87.933000</td>\n      <td>-87.933000</td>\n    </tr>\n    <tr>\n      <th>Stn2-Long</th>\n      <td>10506.0</td>\n      <td>-87.752000</td>\n      <td>1.469472e-11</td>\n      <td>-87.752000</td>\n      <td>-87.752000</td>\n      <td>-87.752000</td>\n      <td>-87.752000</td>\n      <td>-87.752000</td>\n    </tr>\n    <tr>\n      <th>distance_frm_stn1</th>\n      <td>10506.0</td>\n      <td>16.675728</td>\n      <td>8.029341e+00</td>\n      <td>2.570000</td>\n      <td>10.550000</td>\n      <td>16.300000</td>\n      <td>23.890000</td>\n      <td>30.850000</td>\n    </tr>\n    <tr>\n      <th>distance_frm_stn2</th>\n      <td>10506.0</td>\n      <td>9.557179</td>\n      <td>3.973225e+00</td>\n      <td>0.530000</td>\n      <td>7.170000</td>\n      <td>9.590000</td>\n      <td>12.420000</td>\n      <td>16.310000</td>\n    </tr>\n    <tr>\n      <th>closest_station</th>\n      <td>10506.0</td>\n      <td>1.686084</td>\n      <td>4.641047e-01</td>\n      <td>1.000000</td>\n      <td>1.000000</td>\n      <td>2.000000</td>\n      <td>2.000000</td>\n      <td>2.000000</td>\n    </tr>\n    <tr>\n      <th>Station</th>\n      <td>10506.0</td>\n      <td>1.686084</td>\n      <td>4.641047e-01</td>\n      <td>1.000000</td>\n      <td>1.000000</td>\n      <td>2.000000</td>\n      <td>2.000000</td>\n      <td>2.000000</td>\n    </tr>\n    <tr>\n      <th>Tmax</th>\n      <td>10506.0</td>\n      <td>81.928707</td>\n      <td>8.285836e+00</td>\n      <td>57.000000</td>\n      <td>78.000000</td>\n      <td>83.000000</td>\n      <td>88.000000</td>\n      <td>97.000000</td>\n    </tr>\n    <tr>\n      <th>Tmin</th>\n      <td>10506.0</td>\n      <td>63.991053</td>\n      <td>7.585434e+00</td>\n      <td>41.000000</td>\n      <td>60.000000</td>\n      <td>66.000000</td>\n      <td>70.000000</td>\n      <td>79.000000</td>\n    </tr>\n    <tr>\n      <th>Tavg</th>\n      <td>10506.0</td>\n      <td>73.187512</td>\n      <td>7.506371e+00</td>\n      <td>50.000000</td>\n      <td>70.000000</td>\n      <td>75.000000</td>\n      <td>79.000000</td>\n      <td>87.000000</td>\n    </tr>\n    <tr>\n      <th>Depart</th>\n      <td>10506.0</td>\n      <td>2.740244</td>\n      <td>6.486468e+00</td>\n      <td>-12.000000</td>\n      <td>-2.000000</td>\n      <td>4.000000</td>\n      <td>8.000000</td>\n      <td>18.000000</td>\n    </tr>\n    <tr>\n      <th>DewPoint</th>\n      <td>10506.0</td>\n      <td>59.653912</td>\n      <td>7.838916e+00</td>\n      <td>38.000000</td>\n      <td>54.000000</td>\n      <td>60.000000</td>\n      <td>66.000000</td>\n      <td>73.000000</td>\n    </tr>\n    <tr>\n      <th>WetBulb</th>\n      <td>10506.0</td>\n      <td>64.893965</td>\n      <td>6.724637e+00</td>\n      <td>46.000000</td>\n      <td>61.000000</td>\n      <td>66.000000</td>\n      <td>70.000000</td>\n      <td>76.000000</td>\n    </tr>\n    <tr>\n      <th>Heat</th>\n      <td>10506.0</td>\n      <td>0.867314</td>\n      <td>2.680958e+00</td>\n      <td>0.000000</td>\n      <td>0.000000</td>\n      <td>0.000000</td>\n      <td>0.000000</td>\n      <td>15.000000</td>\n    </tr>\n    <tr>\n      <th>Cool</th>\n      <td>10506.0</td>\n      <td>9.054826</td>\n      <td>5.783582e+00</td>\n      <td>0.000000</td>\n      <td>5.000000</td>\n      <td>10.000000</td>\n      <td>14.000000</td>\n      <td>22.000000</td>\n    </tr>\n    <tr>\n      <th>Sunrise</th>\n      <td>10506.0</td>\n      <td>468.457263</td>\n      <td>4.551295e+01</td>\n      <td>416.000000</td>\n      <td>429.000000</td>\n      <td>449.000000</td>\n      <td>514.000000</td>\n      <td>557.000000</td>\n    </tr>\n    <tr>\n      <th>Sunset</th>\n      <td>10506.0</td>\n      <td>1870.854559</td>\n      <td>6.317705e+01</td>\n      <td>1720.000000</td>\n      <td>1832.000000</td>\n      <td>1907.000000</td>\n      <td>1924.000000</td>\n      <td>1931.000000</td>\n    </tr>\n    <tr>\n      <th>Depth</th>\n      <td>10506.0</td>\n      <td>0.000000</td>\n      <td>0.000000e+00</td>\n      <td>0.000000</td>\n      <td>0.000000</td>\n      <td>0.000000</td>\n      <td>0.000000</td>\n      <td>0.000000</td>\n    </tr>\n    <tr>\n      <th>SnowFall</th>\n      <td>10506.0</td>\n      <td>0.000000</td>\n      <td>0.000000e+00</td>\n      <td>0.000000</td>\n      <td>0.000000</td>\n      <td>0.000000</td>\n      <td>0.000000</td>\n      <td>0.000000</td>\n    </tr>\n    <tr>\n      <th>PrecipTotal</th>\n      <td>10506.0</td>\n      <td>0.164117</td>\n      <td>3.614010e-01</td>\n      <td>0.000000</td>\n      <td>0.000000</td>\n      <td>0.000000</td>\n      <td>0.140000</td>\n      <td>3.970000</td>\n    </tr>\n    <tr>\n      <th>StnPressure</th>\n      <td>10506.0</td>\n      <td>29.291570</td>\n      <td>1.175195e-01</td>\n      <td>28.890000</td>\n      <td>29.210000</td>\n      <td>29.290000</td>\n      <td>29.380000</td>\n      <td>29.650000</td>\n    </tr>\n    <tr>\n      <th>SeaLevel</th>\n      <td>10506.0</td>\n      <td>29.958250</td>\n      <td>1.171619e-01</td>\n      <td>29.590000</td>\n      <td>29.880000</td>\n      <td>29.960000</td>\n      <td>30.050000</td>\n      <td>30.330000</td>\n    </tr>\n    <tr>\n      <th>ResultSpeed</th>\n      <td>10506.0</td>\n      <td>5.918142</td>\n      <td>2.902601e+00</td>\n      <td>0.100000</td>\n      <td>3.900000</td>\n      <td>5.500000</td>\n      <td>7.800000</td>\n      <td>15.400000</td>\n    </tr>\n    <tr>\n      <th>ResultDir</th>\n      <td>10506.0</td>\n      <td>17.688369</td>\n      <td>9.136063e+00</td>\n      <td>1.000000</td>\n      <td>9.000000</td>\n      <td>19.000000</td>\n      <td>24.000000</td>\n      <td>36.000000</td>\n    </tr>\n    <tr>\n      <th>AvgSpeed</th>\n      <td>10506.0</td>\n      <td>7.455930</td>\n      <td>2.521806e+00</td>\n      <td>2.100000</td>\n      <td>5.800000</td>\n      <td>7.100000</td>\n      <td>9.200000</td>\n      <td>16.300000</td>\n    </tr>\n  </tbody>\n</table>\n</div>"
     },
     "execution_count": 63,
     "metadata": {},
     "output_type": "execute_result"
    }
   ],
   "source": [
    "train_weather.describe().T"
   ],
   "metadata": {
    "collapsed": false,
    "pycharm": {
     "name": "#%%\n"
    }
   }
  },
  {
   "cell_type": "code",
   "execution_count": 64,
   "outputs": [
    {
     "data": {
      "text/plain": "<AxesSubplot:xlabel='year', ylabel='count'>"
     },
     "execution_count": 64,
     "metadata": {},
     "output_type": "execute_result"
    },
    {
     "data": {
      "text/plain": "<Figure size 432x288 with 1 Axes>",
      "image/png": "[encoded data removed]"
     },
     "metadata": {
      "needs_background": "light"
     },
     "output_type": "display_data"
    }
   ],
   "source": [
    "yearly_mosquitos_count = train_weather.groupby(\"year\")[\"NumMosquitos\"].agg([\"count\"]).reset_index()\n",
    "sns.pointplot(x=\"year\", y=\"count\", data=yearly_mosquitos_count)"
   ],
   "metadata": {
    "collapsed": false,
    "pycharm": {
     "name": "#%%\n"
    }
   }
  },
  {
   "cell_type": "markdown",
   "source": [
    "2007 had higher mosquito count and 2013 saw the raise again."
   ],
   "metadata": {
    "collapsed": false
   }
  },
  {
   "cell_type": "code",
   "execution_count": 65,
   "outputs": [
    {
     "name": "stdout",
     "output_type": "stream",
     "text": [
      "[2007 2009 2011 2013]\n"
     ]
    }
   ],
   "source": [
    "print ( train_weather.Date.dt.year.unique() )"
   ],
   "metadata": {
    "collapsed": false,
    "pycharm": {
     "name": "#%%\n"
    }
   }
  },
  {
   "cell_type": "code",
   "execution_count": 66,
   "outputs": [
    {
     "data": {
      "text/plain": "array(['BR HZ', 'RA BR', 'TSRA BR HZ VCTS', ' ', 'TSRA RA BR VCTS',\n       'TS TSRA RA BR HZ VCTS', 'DZ BR', 'RA BR HZ', 'HZ', 'VCTS',\n       'TSRA RA DZ BR HZ', 'TSRA RA', 'TSRA BR HZ', 'TSRA RA BR',\n       'TS TSRA RA BR', 'BR', 'TSRA HZ', 'TSRA', 'RA', 'TS TSRA BR',\n       'RA DZ BR', 'TS TSRA BR HZ', 'TS TSRA RA VCTS', 'TSRA BR', 'TS BR',\n       'TS', 'FG BR HZ', 'TS TSRA RA FG BR HZ'], dtype=object)"
     },
     "execution_count": 66,
     "metadata": {},
     "output_type": "execute_result"
    }
   ],
   "source": [
    "train_weather.CodeSum.unique()"
   ],
   "metadata": {
    "collapsed": false,
    "pycharm": {
     "name": "#%%\n"
    }
   }
  },
  {
   "cell_type": "markdown",
   "source": [
    "This Codesum column would tell us if there was Mist, Light Rain, Normal Rain, Heavy Rain."
   ],
   "metadata": {
    "collapsed": false
   }
  },
  {
   "cell_type": "code",
   "execution_count": 67,
   "outputs": [],
   "source": [
    "def get_codesum_list(lst):\n",
    "    lst = train_weather.CodeSum.unique().tolist()\n",
    "    mylst =[]\n",
    "    for val in lst:\n",
    "        v = val.split(\" \")\n",
    "        # print (val.split(\" \"))\n",
    "        for element in v:\n",
    "            if element[-1] not in (\"+\",\"-\"):\n",
    "                mylst.append([element[i:i+2] for i in range(0, len(element), 2)])\n",
    "\n",
    "    return mylst\n"
   ],
   "metadata": {
    "collapsed": false,
    "pycharm": {
     "name": "#%%\n"
    }
   }
  },
  {
   "cell_type": "code",
   "execution_count": 68,
   "outputs": [],
   "source": [
    "# print (get_codesum_list(train_weather.CodeSum.unique().tolist()))"
   ],
   "metadata": {
    "collapsed": false,
    "pycharm": {
     "name": "#%%\n"
    }
   }
  }
 ],
 "metadata": {
  "kernelspec": {
   "display_name": "Python 3",
   "language": "python",
   "name": "python3"
  },
  "language_info": {
   "codemirror_mode": {
    "name": "ipython",
    "version": 2
   },
   "file_extension": ".py",
   "mimetype": "text/x-python",
   "name": "python",
   "nbconvert_exporter": "python",
   "pygments_lexer": "ipython2",
   "version": "2.7.6"
  }
 },
 "nbformat": 4,
 "nbformat_minor": 0
}